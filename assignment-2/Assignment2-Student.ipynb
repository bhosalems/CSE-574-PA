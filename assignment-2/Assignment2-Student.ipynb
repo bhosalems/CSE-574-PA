{
 "cells": [
  {
   "cell_type": "markdown",
   "id": "rapid-prague",
   "metadata": {},
   "source": [
    "# Programming Assignment 2\n",
    "\n",
    "In this assignment, you will:\n",
    "\n",
    "1. Practice writing code to train and evaluate models using both the two-way holdout method, and an evaluation approach appropriate for models with hyperparameters that uses k-fold cross validation plus a test set.\n",
    "\n",
    "2. Practice writing code to optimize a machine learning model. In particular, we will use gradient descent to optimize a logistic regression model.\n",
    "\n",
    "3. **574 Only**: Perform optimization with a different algorithm (Newton-Raphson)\n",
    "\n",
    "# Resources you can use to complete this assignment (a COMPLETE list)\n",
    "\n",
    "**NOTE: You ARE allowed to use Google to find things that fit this list (i.e. it is often easy to google something like \"plotly draw line graph\" to find the right part of the plotly documentation).**\n",
    "\n",
    "- Anything linked to in this article\n",
    "- Anything linked to from the course web page\n",
    "- Any materials from another online course taught at a university (**if you use this, you MUST provide a link to the exact document used**)\n",
    "- Anything posted by Kenny, Navid, or Yincheng on Piazza\n"
   ]
  },
  {
   "cell_type": "markdown",
   "id": "everyday-packing",
   "metadata": {},
   "source": [
    "\n",
    "# Grading\n",
    "\n",
    "For grading of code in Part 2, we will execute the submitted notebook as follows:\n",
    "\n",
    "```shell\n",
    "jupyter nbconvert --to python Assignment2-Student.ipynb\n",
    "python Assignment2-Student.py\n",
    "```\n",
    "\n",
    "The PDF that comes along with this document has other details on the points awarded for each part.\n",
    "\n",
    "As such, you will submit, one member of your group will subit as a zip file on UBLearns, a ```.zip``` file that contains 4 things:\n",
    "- Your completed jupyter notebook.\n",
    "- Your written report, answering all questions asked here (and copied in the assignment PDF)\n",
    "- `part_1.1_results.csv`\n",
    "- `part_1.4_results.csv`\n"
   ]
  },
  {
   "cell_type": "markdown",
   "id": "adjustable-double",
   "metadata": {},
   "source": [
    "# Part 1 - Predicting Review Scores on Pitchfork\n",
    "\n",
    "For Part 1, we will be using data from [this paper](https://ojs.aaai.org/index.php/ICWSM/article/view/7355). The data is a collection of reviews from [Pitchfork](https://pitchfork.com/), a site that provides expert reviews of music album. The authors of this paper have also combined the data with a set of features from [Spotify’s API](https://developer.spotify.com/documentation/web-api/) that provide insight into the music itself, e.g. the \"acousticness\" of the song.  We will tackle a regression problem here, trying to predict the score of a review from several of the other columns in the dataset.\n",
    "\n",
    "## Part 1.1 - Feature Engineering with Feature Subsets\n",
    "\n",
    "In the first subsection of Part 1, we’re going to rely on our old friend linear regression. We’re going to look at how running linear regression with various subsets of our features impacts our ability to predict score.\n",
    "\n",
    "In Part 1.1, your task is to write code below that trains a separate linear regression model for a number of different feature subsets.  Specifically:\n",
    "\n",
    "- The list `feature_sets` below is a list of lists; each sublist is a different subset of features to build a model with. \n",
    "- All models should be trained on the dataset `part1_train.csv`. \n",
    "- For each of these trained models, you should evaluate the model’s predictions on the training dataset, as well as the provided test set, called `part1_test.csv`. The evaluation metric we will use is **root mean squared error**.  \n",
    "\n",
    "Write out the result to a file called `part_1.1_results.csv` and submit this along with your assignment. The file should have the following columns:\n",
    "- `feature_set` - a column describing the features of the model used. For feature sets with multiple features, combine them using an underscore (you can do this with the code `\"_\".join(feature_set)`)\n",
    "- `training_rmse` - a column that gives the RMSE of a linear regression model trained on this feature set on the training data\n",
    "- `test_rmse` - a column that gives the RMSE of a linear regression model trained on this feature set on the test data\n",
    "\n",
    "In addition, please answer the following questions:\n",
    "- **1.1.1** Which model had the best RMSE on the *training data*? \n",
    "- **1.1.2** Which model had the best RMSE on the *test data*? \n",
    "- **1.1.3** Which feature do you believe was the most important one? Why? *(Note: There is more than one perfectly acceptable way to answer this question)*\n",
    "- **1.1.4** What can we say about the utility of the Spotify features based on these results?"
   ]
  },
  {
   "cell_type": "code",
   "execution_count": 7,
   "id": "waiting-bunch",
   "metadata": {},
   "outputs": [],
   "source": [
    "feature_sets = [['artist'],\n",
    " ['reviewauthor'],\n",
    " ['releaseyear'],\n",
    " ['recordlabel'],\n",
    " ['genre'],\n",
    " ['danceability'],\n",
    " ['energy'],\n",
    " ['key'],\n",
    " ['loudness'],\n",
    " ['speechiness'],\n",
    " ['acousticness'],\n",
    " ['instrumentalness'],\n",
    " ['liveness'],\n",
    " ['valence'],\n",
    " ['tempo'],\n",
    " ['danceability','energy','key','loudness','speechiness','acousticness',\n",
    "  'instrumentalness','liveness','valence','tempo'],\n",
    " ['artist', 'reviewauthor', 'releaseyear', 'recordlabel', 'genre'],\n",
    " ['artist', 'reviewauthor', 'releaseyear', 'recordlabel', 'genre', 'danceability', \n",
    "  'energy', 'key', 'loudness', 'speechiness', 'acousticness', 'instrumentalness',\n",
    "  'liveness', 'valence', 'tempo']]\n"
   ]
  },
  {
   "cell_type": "code",
   "execution_count": 40,
   "id": "9168d526",
   "metadata": {},
   "outputs": [],
   "source": [
    "feature_sets1 = [['genre']]"
   ]
  },
  {
   "cell_type": "code",
   "execution_count": 81,
   "id": "79360973",
   "metadata": {},
   "outputs": [],
   "source": [
    "def onehot_encode_var(data, varname, encoder):\n",
    "    # This function should take in a variable name in part3_data and return a onehot encoded matrix for that variable\n",
    "    \n",
    "    # Use the encoder\n",
    "    onehot_encoded_variable = encoder.fit_transform(data.loc[:,varname].values.reshape(-1, 1))\n",
    "    \n",
    "    # return the onehot encoded variable\n",
    "    return onehot_encoded_variable, encoder.categories_"
   ]
  },
  {
   "cell_type": "code",
   "execution_count": 42,
   "id": "5bc6e2f2",
   "metadata": {},
   "outputs": [
    {
     "data": {
      "text/plain": [
       "(106,)"
      ]
     },
     "execution_count": 42,
     "metadata": {},
     "output_type": "execute_result"
    }
   ],
   "source": [
    "training_data['artist'].unique().shape"
   ]
  },
  {
   "cell_type": "code",
   "execution_count": 43,
   "id": "3e3b4f3c",
   "metadata": {},
   "outputs": [
    {
     "data": {
      "text/plain": [
       "(79,)"
      ]
     },
     "execution_count": 43,
     "metadata": {},
     "output_type": "execute_result"
    }
   ],
   "source": [
    "test_data['artist'].unique().shape"
   ]
  },
  {
   "cell_type": "code",
   "execution_count": 82,
   "id": "caring-aluminum",
   "metadata": {},
   "outputs": [
    {
     "name": "stderr",
     "output_type": "stream",
     "text": [
      "C:\\Users\\mahes\\anaconda3\\lib\\site-packages\\sklearn\\utils\\validation.py:70: FutureWarning: Pass categories=[array(['...And You Will Know Us by the Trail of Dead',\n",
      "       'Animal Collective', 'Arthur Russell', 'Atmosphere', 'Autechre',\n",
      "       'Beck', 'Belle and Sebastian', 'Bibio', 'Björk', 'Bob Dylan',\n",
      "       'Bonnie “Prince” Billy', 'Brian Eno', 'Bright Eyes',\n",
      "       'Bruce Springsteen', 'Calexico', 'Chief Keef', 'Clark', 'Clinic',\n",
      "       'Coldplay', 'Common', 'DJ Shadow', 'David Bowie',\n",
      "       'Death Cab for Cutie', 'Deerhoof', 'Destroyer', 'Devendra Banhart',\n",
      "       'Dirty Projectors', 'Drive-By Truckers', 'Dungen',\n",
      "       'Elvis Costello', 'Excepter', 'Fennesz', 'Four Tet', 'Frog Eyes',\n",
      "       'Future', 'Ghostface Killah', 'Gucci Mane', 'Guided by Voices',\n",
      "       'Interpol', 'Iron & Wine', 'JAY-Z', 'Johnny Cash', 'Kanye West',\n",
      "       'LCD Soundsystem', 'Lambchop', 'Liars', 'Lil Wayne', 'M83',\n",
      "       'Madonna', 'Mastodon', 'Matmos', 'Melvins', 'Miles Davis',\n",
      "       'Modest Mouse', 'Mogwai', 'Morrissey', 'Mount Eerie',\n",
      "       'Mouse on Mars', 'My Morning Jacket', 'Nas', 'Neil Young',\n",
      "       'Nick Cave & the Bad Seeds', 'Nine Inch Nails', 'OTHER',\n",
      "       'Of Montreal', 'Okkervil River', 'Oneida', 'Oneohtrix Point Never',\n",
      "       'Oren Ambarchi', 'Prince', 'R.E.M.', 'Richard Youngs', 'Rick Ross',\n",
      "       'Robert Pollard', 'Ryan Adams', 'Saint Etienne', 'Shearwater',\n",
      "       'Simian Mobile Disco', 'Six Organs of Admittance', 'Sonic Youth',\n",
      "       'Squarepusher', 'Stereolab', 'Sufjan Stevens', 'Sun Kil Moon',\n",
      "       'Sunn O)))', 'Swans', 'T.I.', 'The Beatles',\n",
      "       'The Chemical Brothers', 'The Decemberists', 'The Fall',\n",
      "       'The Flaming Lips', 'The Mountain Goats', 'The National',\n",
      "       'Thee Oh Sees', 'Tim Hecker', 'Ty Segall', 'WHY?', 'Weezer',\n",
      "       'Wilco', 'William Basinski', 'Wire', 'Xiu Xiu', 'Yo La Tengo',\n",
      "       'Young Thug', nan], dtype=object)] as keyword args. From version 1.0 (renaming of 0.25) passing these as positional arguments will result in an error\n",
      "  warnings.warn(f\"Pass {args_msg} as keyword args. From version \"\n",
      "C:\\Users\\mahes\\anaconda3\\lib\\site-packages\\sklearn\\utils\\validation.py:70: FutureWarning: Pass categories=[array(['Aaron Leitko', 'Abby Jones', 'Adam Moerder', 'Alex Linhardt',\n",
      "       'Alexander Lloyd Linhardt', 'Alfred Soto', 'Alison Fields',\n",
      "       'Allison Hussey', 'Alphonse Pierre', 'Amanda Petrusich',\n",
      "       'Amy Granzin', 'Andrew Bryant', 'Andrew Gaerig', 'Andrew Ryce',\n",
      "       'Andy Battaglia', 'Andy Beta', \"Andy O'Connor\", 'Angus Finlayson',\n",
      "       'Anupa Mistry', 'Arielle Gordon', 'Ben Cardew', 'Ben Westhoff',\n",
      "       'Benjamin Scheim', 'Brad Haywood', 'Brad Nelson',\n",
      "       'Brandon Soderberg', 'Brandon Stosuy', 'Brendan Reid',\n",
      "       'Brent DiCrescenzo', 'Brent S. Sirota', 'Brian Howe',\n",
      "       'Brian James', 'Brian Josephs', 'Briana Younger', 'Calum Marsh',\n",
      "       'Cameron Cook', 'Cameron Macdonald', 'Camilo Arturo Leslie',\n",
      "       'Carrie Battan', 'Chal Ravens', 'Chris Dahlen', 'Christopher Dare',\n",
      "       'Christopher F. Schiel', 'Claire Lobenfeld', 'Colin Joyce',\n",
      "       'Corban Goble', 'Cory D. Byrom', 'Cosmo Lee', 'Craig Jenkins',\n",
      "       'D. Shawn Bosler', 'Dan Lett', 'Dani Blum ',\n",
      "       'Daniel Martin-McCormick', 'David Bevan', 'David Drake',\n",
      "       'David M. Pecoraro', 'David Moore', 'David Raposa', 'David Turner',\n",
      "       'Dean Van Nguyen', 'Derek Miller', 'Devon Maloney',\n",
      "       'Dominique Leone', 'Douglas Wolk', 'Elias Leight', 'Eric Carr',\n",
      "       'Eric Grandy', 'Eric Harvey', 'Eric Torres', 'Erin MacLeod',\n",
      "       'Erin Osmon', 'Evan McGarvey', 'Evan Minsker', 'Evan Rytlewski',\n",
      "       'Grayson Currin', 'Grayson Haver Currin', 'Hank Shteamer',\n",
      "       'Hari Ashurst', 'Harley Brown', 'Hartley Goldstein', 'Hazel Cills',\n",
      "       'Ian Cohen', 'Isaiah Violante', 'Jackson Howard', 'Jamieson Cox',\n",
      "       'Jamin Warren', 'Jascha Hoffman', 'Jason Crock', 'Jason Heller',\n",
      "       'Jason Nickey', 'Jay Balfour', 'Jayson Greene', 'Jazz Monroe',\n",
      "       'Jeff Weiss', 'Jenn Pelly', 'Jeremy D. Larson', 'Jeremy Gordon',\n",
      "       'Jes Skolnik', 'Jess Harvell', 'Jesse Dorris', 'Jesse Jarnow',\n",
      "       'Jesse Weiss', 'Jessica Hopper', 'Jessica Suarez', 'Jillian Mapes',\n",
      "       'Joe Colly', 'Joe Tangari', 'Joel Oliphint', 'John Dark',\n",
      "       'John Motley', 'Johnny Loftus', 'Jonah Bromwich',\n",
      "       'Jonathan Zwickel', 'Jordan Sargent', 'Joshua Klein',\n",
      "       'Joshua Love', 'Judy Berman', 'Julianne Escobedo Shepherd',\n",
      "       'Katherine St. Asaph', 'Kevin Adickes', 'Kevin Lozano',\n",
      "       'Kim Kelly', 'Larry Fitzmaurice', 'Laura Snapes', 'Liam Singer',\n",
      "       'Lindsay Zoladz', 'Liz Colville', 'Louis Pattison', 'Luke Buckman',\n",
      "       'Madison Bloom', 'Marc Hogan', 'Marc Masters', 'Marcus J. Moore',\n",
      "       'Margaret Farrell', 'Mark Martelli', 'Mark Pytlik',\n",
      "       'Mark Richardson', 'Martin Douglas', 'Matt LeMay',\n",
      "       'Matthew  Ismael Ruiz', 'Matthew Ismael Ruiz', 'Matthew Murphy',\n",
      "       'Matthew Perpetua', 'Matthew Ramirez', 'Matthew Solarski',\n",
      "       'Matthew Strauss', 'Maura Johnston', 'Meaghan Garvey',\n",
      "       'Mehan Jayasuriya', 'Mia Clarke', 'Mia Lily Clarke',\n",
      "       'Michael Idov', 'Michelle Kim', 'Mike McGonigal', 'Mike Orme',\n",
      "       'Mike Powell', 'Miles Bowe', 'Miles Raymer', 'Minna Zhou',\n",
      "       'Nate Patrin', 'Nathan Reese', 'Nathan Smith', 'Ned Raggett',\n",
      "       'Neil Robertson', 'Nick Mirov', 'Nick Neyland', 'Nick Sylvester',\n",
      "       'Nina Corcoran', 'Nitsuh Abebe', 'Noah Yoo', 'OTHER',\n",
      "       'Olivia Horn ', 'Pat Healy', 'Patric Fallon', 'Patrick Sisson',\n",
      "       'Patrick St. Michel', 'Paul A. Thompson', 'Paul Cooper',\n",
      "       'Paul Thompson', 'Peter Macia', 'Peyton Thomas',\n",
      "       'Philip Sherburne', 'Phillip Mlynar', 'Puja Patel',\n",
      "       'Quinn Moreland', 'Rachael Maddux', 'Rachel Khong',\n",
      "       'Rawiya Kameir', 'Raymond Cummings', 'Rebecca Bengal',\n",
      "       'Rebecca Haithcoat', 'Rebecca Raber', 'Reed Jackson',\n",
      "       'Renato Pagnani', 'Rich Juzwiak', 'Rob Mitchum', 'Robbie Mackey',\n",
      "       'Robert Ham', 'Rollie Pemberton', 'Roque Strew', 'Ruth Saxelby',\n",
      "       'Ryan Dombal', 'Ryan Kearney', 'Ryan Schreiber',\n",
      "       'Saby Reyes-Kulkarni', 'Sam Chennault', 'Sam Hockley-Smith',\n",
      "       'Sam Lefebvre', 'Sam Sodomsky', 'Sam Ubl', 'Sasha Geffen',\n",
      "       'Scott Hreha', 'Scott Plagenhoef', 'Sean Fennessey',\n",
      "       'Sean T. Collins', 'Seth Colter Walls', 'Sheldon Pearce',\n",
      "       'Sophie Kemp ', 'Spencer Owen', 'Stacey Anderson',\n",
      "       'Stephen Deusner', 'Stephen Kearse', 'Stephen M. Deusner',\n",
      "       'Stephen Thomas Erlewine', 'Stephen Troussé', 'Steven Arroyo',\n",
      "       'Steven Hyden', 'Stuart Berman', 'T. Cole Rachel', 'Tal Rosenberg',\n",
      "       'Thea Ballard', 'Tim Finney', 'Tom Breihan', 'Tom Ewing',\n",
      "       'Torii MacAdams', 'Vrinda Jagota', 'Will Bryant', 'William Bowers',\n",
      "       'William Morris', 'Winston Cook-Wilson', 'Zach Baron',\n",
      "       'Zach Kelly', 'Zoe Camp', 'kris ex'], dtype=object)] as keyword args. From version 1.0 (renaming of 0.25) passing these as positional arguments will result in an error\n",
      "  warnings.warn(f\"Pass {args_msg} as keyword args. From version \"\n",
      "C:\\Users\\mahes\\anaconda3\\lib\\site-packages\\sklearn\\utils\\validation.py:70: FutureWarning: Pass categories=[array(['!K7', '20 Buck Spin', '300 Entertainment', '4AD', '5RC', 'ATO',\n",
      "       'ATP', 'Absolutely Kosher', 'Ace Fu', 'Acuarela', 'Alien8',\n",
      "       'American', 'Anti-', 'Anticon', 'Arbutus', 'Arena Rock', 'Arista',\n",
      "       'Arts & Crafts', 'Asthmatic Kitty', 'Astralwerks', 'Asylum',\n",
      "       'Atavistic', 'Atlantic', 'BMG', 'Ba Da Bing!', 'Babygrande',\n",
      "       'Badman', 'Bar/None', 'Barsuk', 'Bedroom Community',\n",
      "       'Beggars Banquet', 'Bella Union', 'Big Dada', 'Birdman',\n",
      "       'Blackest Ever Black', 'Bloodshot', 'Blue Note',\n",
      "       'Border Community', 'Bpitch Control', 'Brainfeeder', 'Brassland',\n",
      "       'Burger', 'Caldo Verde', 'Capitol', 'Captured Tracks', 'Caroline',\n",
      "       'Carpark', 'Cash Money', 'Castle Face', 'Century Media',\n",
      "       'Chemikal Underground', 'City Slang', 'Columbia', 'Constellation',\n",
      "       'Cooking Vinyl', 'Crammed Discs', 'DFA', 'Dais Records',\n",
      "       'Dangerbird', 'Daptone', 'Darla', 'De Stijl', 'Dead Oceans',\n",
      "       'Deathwish', 'Decon', 'Def Jam', 'Definitive Jux', 'Dial',\n",
      "       'Dim Mak', 'Dischord', 'Domino', 'Don Giovanni',\n",
      "       'Double Double Whammy', 'Downtown', 'Drag City', 'E1', 'ECM',\n",
      "       'EMI', 'EMPIRE', 'Ecstatic Peace', 'Editions Mego', 'Elektra',\n",
      "       'Emperor Norton', 'Entertainment One', 'Epic', 'Epitaph',\n",
      "       'Erased Tapes', 'Fabric', 'Family Vineyard', 'Fat Beats',\n",
      "       'Fat Cat', 'Fat Possum', 'Father/Daughter', 'Fiction', 'Fire',\n",
      "       'Flameshovel', 'Flying Nun', 'Fonal', \"Fool's Gold\", 'Frenchkiss',\n",
      "       'Friendly Fire', 'Friends of Friends', 'GSL', 'Geffen', 'Ghostly',\n",
      "       'Ghostly International', 'Glassnote', 'Gnomonsong', 'Goner',\n",
      "       'Graveface', 'Guided By Voices, Inc.', 'Hardly Art', 'Harvest',\n",
      "       'Heavenly', 'Hidden Agenda', 'Hippos in Tanks', 'Holy Mountain',\n",
      "       'Hometapes', \"Honest Jon's\", 'Hotflush', 'Hush', 'Hydra Head',\n",
      "       'Hyperdub', 'IAMSOUND', 'Important', 'In the Red',\n",
      "       'Innovative Leisure', 'Interscope', 'Ipecac', 'Island',\n",
      "       'Jade Tree', 'Jagjaguwar', 'Jetset', 'Jive', 'Joyful Noise', 'K',\n",
      "       'Kanine', 'Kemado', 'Kill Rock Stars', 'Koch', 'Kompakt', 'Kora',\n",
      "       'Kranky', 'Labrador', 'Last Gang', 'Leaf', 'Leaving', 'Lefse',\n",
      "       'Legacy', 'Lex', 'Light in the Attic', 'Lo', 'Load', 'Locust',\n",
      "       'Loma Vista', 'Lookout!', 'Lost Highway', 'Luaka Bop', 'MCA',\n",
      "       'Mad Decent', 'Matador', 'Mego', 'Mello Music Group', 'Melodic',\n",
      "       'Memphis Industries', 'Mercury', 'Merge', 'Metal Blade',\n",
      "       'Mexican Summer', 'Milan', 'Mille Plateaux', 'Mint', 'Misra',\n",
      "       'Modern Love', 'Modular', 'Mom & Pop', 'Monitor', 'Monkeytown',\n",
      "       'Morr', 'Moshi Moshi', 'Motown', 'Mush', 'Mute', 'NNA Tapes',\n",
      "       'Narnack', 'Nature Sounds', 'Nettwerk', 'Neurot', 'New Amsterdam',\n",
      "       'New West', 'Night Slugs', 'Ninja Tune', 'No Quarter', 'Nonesuch',\n",
      "       'Northern Spy', 'Not Not Fun', 'Nuclear Blast', 'Numero Group',\n",
      "       'OTHER', 'Odd Future', 'One Little Indian', 'Orange Twin',\n",
      "       'Overcoat', 'P.W. Elverum & Sun', 'PIAS', 'Pan', 'Paper Bag',\n",
      "       'Paradise of Bachelors', 'Parasol', 'Parlophone', 'Partisan',\n",
      "       'Paw Tracks', 'Pinkflag', 'Planet Mu', 'Planet µ', 'Plug Research',\n",
      "       'Polydor', 'Polyvinyl', 'Profound Lore', 'Prosthetic',\n",
      "       'Quality Control', 'Quarterstick', 'R&S', 'RCA', 'Rap-A-Lot',\n",
      "       'Recordcollection', 'Relapse', 'Rephlex', 'Reprise', 'Republic',\n",
      "       'Rhino', 'Rhymesayers', 'Ribbon Music', 'Roadrunner', 'Roc Nation',\n",
      "       'Roc-A-Fella', 'Room40', 'Rough Trade', 'Rounder', 'Run for Cover',\n",
      "       'Rune Grammofon', 'Rvng Intl.', 'Ryko', 'Sacred Bones',\n",
      "       'Saddle Creek', 'Sanctuary', 'Sargent House', 'Season of Mist',\n",
      "       'Secret City', 'Secretly Canadian', 'Self-released',\n",
      "       'Shout! Factory', 'Siltbreeze', 'Sire', 'Slumberland',\n",
      "       'Smalltown Supersound', 'Social Registry', 'Soft Abuse',\n",
      "       'Software', 'Sonic Unyon', 'Sony', 'Southern', 'Southern Lord',\n",
      "       'StarTime', 'Staubgold', 'Stones Throw',\n",
      "       'Strange Attractors Audio House', 'Sub Pop', 'Subliminal Sounds',\n",
      "       'Suicide Squeeze', 'Swami', 'Team Love', 'Tee Pee', 'Teenbeat',\n",
      "       'Temporary Residence', 'The End', 'Third Man', 'Thirsty Ear',\n",
      "       'Three Lobed', 'Thrill Jockey', 'Tiger Style', 'Tigerbeat6',\n",
      "       'Tiny Engines', 'Tomlab', 'Tompkins Square', 'Too Pure',\n",
      "       'Top Dawg', 'Topshelf', 'Touch', 'Touch and Go', 'Transgressive',\n",
      "       'Tri Angle', 'Triple Crown', 'Trouble in Mind',\n",
      "       'Troubleman Unlimited', 'True Panther', 'Type', 'Tzadik',\n",
      "       'Underwater Peoples', 'V2', 'VHF', 'Vagrant', 'Vice', 'Virgin',\n",
      "       'Warm', 'Warner Bros.', 'Warp', 'Western Vinyl',\n",
      "       \"What's Your Rupture?\", 'Wichita', 'Woodsist', 'XL', 'Yep Roc',\n",
      "       'Young God', 'Young Money Entertainment', 'Young Turks', 'none',\n",
      "       'spinART', nan], dtype=object)] as keyword args. From version 1.0 (renaming of 0.25) passing these as positional arguments will result in an error\n",
      "  warnings.warn(f\"Pass {args_msg} as keyword args. From version \"\n",
      "C:\\Users\\mahes\\anaconda3\\lib\\site-packages\\sklearn\\utils\\validation.py:70: FutureWarning: Pass categories=[array(['Electronic', 'Experimental', 'Folk/Country', 'Global', 'Jazz',\n",
      "       'Metal', 'Pop/R&B', 'Rap', 'Rock', 'none', nan], dtype=object)] as keyword args. From version 1.0 (renaming of 0.25) passing these as positional arguments will result in an error\n",
      "  warnings.warn(f\"Pass {args_msg} as keyword args. From version \"\n"
     ]
    },
    {
     "name": "stderr",
     "output_type": "stream",
     "text": [
      "C:\\Users\\mahes\\anaconda3\\lib\\site-packages\\sklearn\\utils\\validation.py:70: FutureWarning: Pass categories=[array(['...And You Will Know Us by the Trail of Dead',\n",
      "       'Animal Collective', 'Arthur Russell', 'Atmosphere', 'Autechre',\n",
      "       'Beck', 'Belle and Sebastian', 'Bibio', 'Björk', 'Bob Dylan',\n",
      "       'Bonnie “Prince” Billy', 'Brian Eno', 'Bright Eyes',\n",
      "       'Bruce Springsteen', 'Calexico', 'Chief Keef', 'Clark', 'Clinic',\n",
      "       'Coldplay', 'Common', 'DJ Shadow', 'David Bowie',\n",
      "       'Death Cab for Cutie', 'Deerhoof', 'Destroyer', 'Devendra Banhart',\n",
      "       'Dirty Projectors', 'Drive-By Truckers', 'Dungen',\n",
      "       'Elvis Costello', 'Excepter', 'Fennesz', 'Four Tet', 'Frog Eyes',\n",
      "       'Future', 'Ghostface Killah', 'Gucci Mane', 'Guided by Voices',\n",
      "       'Interpol', 'Iron & Wine', 'JAY-Z', 'Johnny Cash', 'Kanye West',\n",
      "       'LCD Soundsystem', 'Lambchop', 'Liars', 'Lil Wayne', 'M83',\n",
      "       'Madonna', 'Mastodon', 'Matmos', 'Melvins', 'Miles Davis',\n",
      "       'Modest Mouse', 'Mogwai', 'Morrissey', 'Mount Eerie',\n",
      "       'Mouse on Mars', 'My Morning Jacket', 'Nas', 'Neil Young',\n",
      "       'Nick Cave & the Bad Seeds', 'Nine Inch Nails', 'OTHER',\n",
      "       'Of Montreal', 'Okkervil River', 'Oneida', 'Oneohtrix Point Never',\n",
      "       'Oren Ambarchi', 'Prince', 'R.E.M.', 'Richard Youngs', 'Rick Ross',\n",
      "       'Robert Pollard', 'Ryan Adams', 'Saint Etienne', 'Shearwater',\n",
      "       'Simian Mobile Disco', 'Six Organs of Admittance', 'Sonic Youth',\n",
      "       'Squarepusher', 'Stereolab', 'Sufjan Stevens', 'Sun Kil Moon',\n",
      "       'Sunn O)))', 'Swans', 'T.I.', 'The Beatles',\n",
      "       'The Chemical Brothers', 'The Decemberists', 'The Fall',\n",
      "       'The Flaming Lips', 'The Mountain Goats', 'The National',\n",
      "       'Thee Oh Sees', 'Tim Hecker', 'Ty Segall', 'WHY?', 'Weezer',\n",
      "       'Wilco', 'William Basinski', 'Wire', 'Xiu Xiu', 'Yo La Tengo',\n",
      "       'Young Thug', nan], dtype=object)] as keyword args. From version 1.0 (renaming of 0.25) passing these as positional arguments will result in an error\n",
      "  warnings.warn(f\"Pass {args_msg} as keyword args. From version \"\n",
      "C:\\Users\\mahes\\anaconda3\\lib\\site-packages\\sklearn\\utils\\validation.py:70: FutureWarning: Pass categories=[array(['Aaron Leitko', 'Abby Jones', 'Adam Moerder', 'Alex Linhardt',\n",
      "       'Alexander Lloyd Linhardt', 'Alfred Soto', 'Alison Fields',\n",
      "       'Allison Hussey', 'Alphonse Pierre', 'Amanda Petrusich',\n",
      "       'Amy Granzin', 'Andrew Bryant', 'Andrew Gaerig', 'Andrew Ryce',\n",
      "       'Andy Battaglia', 'Andy Beta', \"Andy O'Connor\", 'Angus Finlayson',\n",
      "       'Anupa Mistry', 'Arielle Gordon', 'Ben Cardew', 'Ben Westhoff',\n",
      "       'Benjamin Scheim', 'Brad Haywood', 'Brad Nelson',\n",
      "       'Brandon Soderberg', 'Brandon Stosuy', 'Brendan Reid',\n",
      "       'Brent DiCrescenzo', 'Brent S. Sirota', 'Brian Howe',\n",
      "       'Brian James', 'Brian Josephs', 'Briana Younger', 'Calum Marsh',\n",
      "       'Cameron Cook', 'Cameron Macdonald', 'Camilo Arturo Leslie',\n",
      "       'Carrie Battan', 'Chal Ravens', 'Chris Dahlen', 'Christopher Dare',\n",
      "       'Christopher F. Schiel', 'Claire Lobenfeld', 'Colin Joyce',\n",
      "       'Corban Goble', 'Cory D. Byrom', 'Cosmo Lee', 'Craig Jenkins',\n",
      "       'D. Shawn Bosler', 'Dan Lett', 'Dani Blum ',\n",
      "       'Daniel Martin-McCormick', 'David Bevan', 'David Drake',\n",
      "       'David M. Pecoraro', 'David Moore', 'David Raposa', 'David Turner',\n",
      "       'Dean Van Nguyen', 'Derek Miller', 'Devon Maloney',\n",
      "       'Dominique Leone', 'Douglas Wolk', 'Elias Leight', 'Eric Carr',\n",
      "       'Eric Grandy', 'Eric Harvey', 'Eric Torres', 'Erin MacLeod',\n",
      "       'Erin Osmon', 'Evan McGarvey', 'Evan Minsker', 'Evan Rytlewski',\n",
      "       'Grayson Currin', 'Grayson Haver Currin', 'Hank Shteamer',\n",
      "       'Hari Ashurst', 'Harley Brown', 'Hartley Goldstein', 'Hazel Cills',\n",
      "       'Ian Cohen', 'Isaiah Violante', 'Jackson Howard', 'Jamieson Cox',\n",
      "       'Jamin Warren', 'Jascha Hoffman', 'Jason Crock', 'Jason Heller',\n",
      "       'Jason Nickey', 'Jay Balfour', 'Jayson Greene', 'Jazz Monroe',\n",
      "       'Jeff Weiss', 'Jenn Pelly', 'Jeremy D. Larson', 'Jeremy Gordon',\n",
      "       'Jes Skolnik', 'Jess Harvell', 'Jesse Dorris', 'Jesse Jarnow',\n",
      "       'Jesse Weiss', 'Jessica Hopper', 'Jessica Suarez', 'Jillian Mapes',\n",
      "       'Joe Colly', 'Joe Tangari', 'Joel Oliphint', 'John Dark',\n",
      "       'John Motley', 'Johnny Loftus', 'Jonah Bromwich',\n",
      "       'Jonathan Zwickel', 'Jordan Sargent', 'Joshua Klein',\n",
      "       'Joshua Love', 'Judy Berman', 'Julianne Escobedo Shepherd',\n",
      "       'Katherine St. Asaph', 'Kevin Adickes', 'Kevin Lozano',\n",
      "       'Kim Kelly', 'Larry Fitzmaurice', 'Laura Snapes', 'Liam Singer',\n",
      "       'Lindsay Zoladz', 'Liz Colville', 'Louis Pattison', 'Luke Buckman',\n",
      "       'Madison Bloom', 'Marc Hogan', 'Marc Masters', 'Marcus J. Moore',\n",
      "       'Margaret Farrell', 'Mark Martelli', 'Mark Pytlik',\n",
      "       'Mark Richardson', 'Martin Douglas', 'Matt LeMay',\n",
      "       'Matthew  Ismael Ruiz', 'Matthew Ismael Ruiz', 'Matthew Murphy',\n",
      "       'Matthew Perpetua', 'Matthew Ramirez', 'Matthew Solarski',\n",
      "       'Matthew Strauss', 'Maura Johnston', 'Meaghan Garvey',\n",
      "       'Mehan Jayasuriya', 'Mia Clarke', 'Mia Lily Clarke',\n",
      "       'Michael Idov', 'Michelle Kim', 'Mike McGonigal', 'Mike Orme',\n",
      "       'Mike Powell', 'Miles Bowe', 'Miles Raymer', 'Minna Zhou',\n",
      "       'Nate Patrin', 'Nathan Reese', 'Nathan Smith', 'Ned Raggett',\n",
      "       'Neil Robertson', 'Nick Mirov', 'Nick Neyland', 'Nick Sylvester',\n",
      "       'Nina Corcoran', 'Nitsuh Abebe', 'Noah Yoo', 'OTHER',\n",
      "       'Olivia Horn ', 'Pat Healy', 'Patric Fallon', 'Patrick Sisson',\n",
      "       'Patrick St. Michel', 'Paul A. Thompson', 'Paul Cooper',\n",
      "       'Paul Thompson', 'Peter Macia', 'Peyton Thomas',\n",
      "       'Philip Sherburne', 'Phillip Mlynar', 'Puja Patel',\n",
      "       'Quinn Moreland', 'Rachael Maddux', 'Rachel Khong',\n",
      "       'Rawiya Kameir', 'Raymond Cummings', 'Rebecca Bengal',\n",
      "       'Rebecca Haithcoat', 'Rebecca Raber', 'Reed Jackson',\n",
      "       'Renato Pagnani', 'Rich Juzwiak', 'Rob Mitchum', 'Robbie Mackey',\n",
      "       'Robert Ham', 'Rollie Pemberton', 'Roque Strew', 'Ruth Saxelby',\n",
      "       'Ryan Dombal', 'Ryan Kearney', 'Ryan Schreiber',\n",
      "       'Saby Reyes-Kulkarni', 'Sam Chennault', 'Sam Hockley-Smith',\n",
      "       'Sam Lefebvre', 'Sam Sodomsky', 'Sam Ubl', 'Sasha Geffen',\n",
      "       'Scott Hreha', 'Scott Plagenhoef', 'Sean Fennessey',\n",
      "       'Sean T. Collins', 'Seth Colter Walls', 'Sheldon Pearce',\n",
      "       'Sophie Kemp ', 'Spencer Owen', 'Stacey Anderson',\n",
      "       'Stephen Deusner', 'Stephen Kearse', 'Stephen M. Deusner',\n",
      "       'Stephen Thomas Erlewine', 'Stephen Troussé', 'Steven Arroyo',\n",
      "       'Steven Hyden', 'Stuart Berman', 'T. Cole Rachel', 'Tal Rosenberg',\n",
      "       'Thea Ballard', 'Tim Finney', 'Tom Breihan', 'Tom Ewing',\n",
      "       'Torii MacAdams', 'Vrinda Jagota', 'Will Bryant', 'William Bowers',\n",
      "       'William Morris', 'Winston Cook-Wilson', 'Zach Baron',\n",
      "       'Zach Kelly', 'Zoe Camp', 'kris ex'], dtype=object)] as keyword args. From version 1.0 (renaming of 0.25) passing these as positional arguments will result in an error\n",
      "  warnings.warn(f\"Pass {args_msg} as keyword args. From version \"\n",
      "C:\\Users\\mahes\\anaconda3\\lib\\site-packages\\sklearn\\utils\\validation.py:70: FutureWarning: Pass categories=[array(['!K7', '20 Buck Spin', '300 Entertainment', '4AD', '5RC', 'ATO',\n",
      "       'ATP', 'Absolutely Kosher', 'Ace Fu', 'Acuarela', 'Alien8',\n",
      "       'American', 'Anti-', 'Anticon', 'Arbutus', 'Arena Rock', 'Arista',\n",
      "       'Arts & Crafts', 'Asthmatic Kitty', 'Astralwerks', 'Asylum',\n",
      "       'Atavistic', 'Atlantic', 'BMG', 'Ba Da Bing!', 'Babygrande',\n",
      "       'Badman', 'Bar/None', 'Barsuk', 'Bedroom Community',\n",
      "       'Beggars Banquet', 'Bella Union', 'Big Dada', 'Birdman',\n",
      "       'Blackest Ever Black', 'Bloodshot', 'Blue Note',\n",
      "       'Border Community', 'Bpitch Control', 'Brainfeeder', 'Brassland',\n",
      "       'Burger', 'Caldo Verde', 'Capitol', 'Captured Tracks', 'Caroline',\n",
      "       'Carpark', 'Cash Money', 'Castle Face', 'Century Media',\n",
      "       'Chemikal Underground', 'City Slang', 'Columbia', 'Constellation',\n",
      "       'Cooking Vinyl', 'Crammed Discs', 'DFA', 'Dais Records',\n",
      "       'Dangerbird', 'Daptone', 'Darla', 'De Stijl', 'Dead Oceans',\n",
      "       'Deathwish', 'Decon', 'Def Jam', 'Definitive Jux', 'Dial',\n",
      "       'Dim Mak', 'Dischord', 'Domino', 'Don Giovanni',\n",
      "       'Double Double Whammy', 'Downtown', 'Drag City', 'E1', 'ECM',\n",
      "       'EMI', 'EMPIRE', 'Ecstatic Peace', 'Editions Mego', 'Elektra',\n",
      "       'Emperor Norton', 'Entertainment One', 'Epic', 'Epitaph',\n",
      "       'Erased Tapes', 'Fabric', 'Family Vineyard', 'Fat Beats',\n",
      "       'Fat Cat', 'Fat Possum', 'Father/Daughter', 'Fiction', 'Fire',\n",
      "       'Flameshovel', 'Flying Nun', 'Fonal', \"Fool's Gold\", 'Frenchkiss',\n",
      "       'Friendly Fire', 'Friends of Friends', 'GSL', 'Geffen', 'Ghostly',\n",
      "       'Ghostly International', 'Glassnote', 'Gnomonsong', 'Goner',\n",
      "       'Graveface', 'Guided By Voices, Inc.', 'Hardly Art', 'Harvest',\n",
      "       'Heavenly', 'Hidden Agenda', 'Hippos in Tanks', 'Holy Mountain',\n",
      "       'Hometapes', \"Honest Jon's\", 'Hotflush', 'Hush', 'Hydra Head',\n",
      "       'Hyperdub', 'IAMSOUND', 'Important', 'In the Red',\n",
      "       'Innovative Leisure', 'Interscope', 'Ipecac', 'Island',\n",
      "       'Jade Tree', 'Jagjaguwar', 'Jetset', 'Jive', 'Joyful Noise', 'K',\n",
      "       'Kanine', 'Kemado', 'Kill Rock Stars', 'Koch', 'Kompakt', 'Kora',\n",
      "       'Kranky', 'Labrador', 'Last Gang', 'Leaf', 'Leaving', 'Lefse',\n",
      "       'Legacy', 'Lex', 'Light in the Attic', 'Lo', 'Load', 'Locust',\n",
      "       'Loma Vista', 'Lookout!', 'Lost Highway', 'Luaka Bop', 'MCA',\n",
      "       'Mad Decent', 'Matador', 'Mego', 'Mello Music Group', 'Melodic',\n",
      "       'Memphis Industries', 'Mercury', 'Merge', 'Metal Blade',\n",
      "       'Mexican Summer', 'Milan', 'Mille Plateaux', 'Mint', 'Misra',\n",
      "       'Modern Love', 'Modular', 'Mom & Pop', 'Monitor', 'Monkeytown',\n",
      "       'Morr', 'Moshi Moshi', 'Motown', 'Mush', 'Mute', 'NNA Tapes',\n",
      "       'Narnack', 'Nature Sounds', 'Nettwerk', 'Neurot', 'New Amsterdam',\n",
      "       'New West', 'Night Slugs', 'Ninja Tune', 'No Quarter', 'Nonesuch',\n",
      "       'Northern Spy', 'Not Not Fun', 'Nuclear Blast', 'Numero Group',\n",
      "       'OTHER', 'Odd Future', 'One Little Indian', 'Orange Twin',\n",
      "       'Overcoat', 'P.W. Elverum & Sun', 'PIAS', 'Pan', 'Paper Bag',\n",
      "       'Paradise of Bachelors', 'Parasol', 'Parlophone', 'Partisan',\n",
      "       'Paw Tracks', 'Pinkflag', 'Planet Mu', 'Planet µ', 'Plug Research',\n",
      "       'Polydor', 'Polyvinyl', 'Profound Lore', 'Prosthetic',\n",
      "       'Quality Control', 'Quarterstick', 'R&S', 'RCA', 'Rap-A-Lot',\n",
      "       'Recordcollection', 'Relapse', 'Rephlex', 'Reprise', 'Republic',\n",
      "       'Rhino', 'Rhymesayers', 'Ribbon Music', 'Roadrunner', 'Roc Nation',\n",
      "       'Roc-A-Fella', 'Room40', 'Rough Trade', 'Rounder', 'Run for Cover',\n",
      "       'Rune Grammofon', 'Rvng Intl.', 'Ryko', 'Sacred Bones',\n",
      "       'Saddle Creek', 'Sanctuary', 'Sargent House', 'Season of Mist',\n",
      "       'Secret City', 'Secretly Canadian', 'Self-released',\n",
      "       'Shout! Factory', 'Siltbreeze', 'Sire', 'Slumberland',\n",
      "       'Smalltown Supersound', 'Social Registry', 'Soft Abuse',\n",
      "       'Software', 'Sonic Unyon', 'Sony', 'Southern', 'Southern Lord',\n",
      "       'StarTime', 'Staubgold', 'Stones Throw',\n",
      "       'Strange Attractors Audio House', 'Sub Pop', 'Subliminal Sounds',\n",
      "       'Suicide Squeeze', 'Swami', 'Team Love', 'Tee Pee', 'Teenbeat',\n",
      "       'Temporary Residence', 'The End', 'Third Man', 'Thirsty Ear',\n",
      "       'Three Lobed', 'Thrill Jockey', 'Tiger Style', 'Tigerbeat6',\n",
      "       'Tiny Engines', 'Tomlab', 'Tompkins Square', 'Too Pure',\n",
      "       'Top Dawg', 'Topshelf', 'Touch', 'Touch and Go', 'Transgressive',\n",
      "       'Tri Angle', 'Triple Crown', 'Trouble in Mind',\n",
      "       'Troubleman Unlimited', 'True Panther', 'Type', 'Tzadik',\n",
      "       'Underwater Peoples', 'V2', 'VHF', 'Vagrant', 'Vice', 'Virgin',\n",
      "       'Warm', 'Warner Bros.', 'Warp', 'Western Vinyl',\n",
      "       \"What's Your Rupture?\", 'Wichita', 'Woodsist', 'XL', 'Yep Roc',\n",
      "       'Young God', 'Young Money Entertainment', 'Young Turks', 'none',\n",
      "       'spinART', nan], dtype=object)] as keyword args. From version 1.0 (renaming of 0.25) passing these as positional arguments will result in an error\n",
      "  warnings.warn(f\"Pass {args_msg} as keyword args. From version \"\n",
      "C:\\Users\\mahes\\anaconda3\\lib\\site-packages\\sklearn\\utils\\validation.py:70: FutureWarning: Pass categories=[array(['Electronic', 'Experimental', 'Folk/Country', 'Global', 'Jazz',\n",
      "       'Metal', 'Pop/R&B', 'Rap', 'Rock', 'none', nan], dtype=object)] as keyword args. From version 1.0 (renaming of 0.25) passing these as positional arguments will result in an error\n",
      "  warnings.warn(f\"Pass {args_msg} as keyword args. From version \"\n",
      "C:\\Users\\mahes\\anaconda3\\lib\\site-packages\\sklearn\\utils\\validation.py:70: FutureWarning: Pass categories=[array(['...And You Will Know Us by the Trail of Dead',\n",
      "       'Animal Collective', 'Arthur Russell', 'Atmosphere', 'Autechre',\n",
      "       'Beck', 'Belle and Sebastian', 'Bibio', 'Björk', 'Bob Dylan',\n",
      "       'Bonnie “Prince” Billy', 'Brian Eno', 'Bright Eyes',\n",
      "       'Bruce Springsteen', 'Calexico', 'Chief Keef', 'Clark', 'Clinic',\n",
      "       'Coldplay', 'Common', 'DJ Shadow', 'David Bowie',\n",
      "       'Death Cab for Cutie', 'Deerhoof', 'Destroyer', 'Devendra Banhart',\n",
      "       'Dirty Projectors', 'Drive-By Truckers', 'Dungen',\n",
      "       'Elvis Costello', 'Excepter', 'Fennesz', 'Four Tet', 'Frog Eyes',\n",
      "       'Future', 'Ghostface Killah', 'Gucci Mane', 'Guided by Voices',\n",
      "       'Interpol', 'Iron & Wine', 'JAY-Z', 'Johnny Cash', 'Kanye West',\n",
      "       'LCD Soundsystem', 'Lambchop', 'Liars', 'Lil Wayne', 'M83',\n",
      "       'Madonna', 'Mastodon', 'Matmos', 'Melvins', 'Miles Davis',\n",
      "       'Modest Mouse', 'Mogwai', 'Morrissey', 'Mount Eerie',\n",
      "       'Mouse on Mars', 'My Morning Jacket', 'Nas', 'Neil Young',\n",
      "       'Nick Cave & the Bad Seeds', 'Nine Inch Nails', 'OTHER',\n",
      "       'Of Montreal', 'Okkervil River', 'Oneida', 'Oneohtrix Point Never',\n",
      "       'Oren Ambarchi', 'Prince', 'R.E.M.', 'Richard Youngs', 'Rick Ross',\n",
      "       'Robert Pollard', 'Ryan Adams', 'Saint Etienne', 'Shearwater',\n",
      "       'Simian Mobile Disco', 'Six Organs of Admittance', 'Sonic Youth',\n",
      "       'Squarepusher', 'Stereolab', 'Sufjan Stevens', 'Sun Kil Moon',\n",
      "       'Sunn O)))', 'Swans', 'T.I.', 'The Beatles',\n",
      "       'The Chemical Brothers', 'The Decemberists', 'The Fall',\n",
      "       'The Flaming Lips', 'The Mountain Goats', 'The National',\n",
      "       'Thee Oh Sees', 'Tim Hecker', 'Ty Segall', 'WHY?', 'Weezer',\n",
      "       'Wilco', 'William Basinski', 'Wire', 'Xiu Xiu', 'Yo La Tengo',\n",
      "       'Young Thug', nan], dtype=object)] as keyword args. From version 1.0 (renaming of 0.25) passing these as positional arguments will result in an error\n",
      "  warnings.warn(f\"Pass {args_msg} as keyword args. From version \"\n",
      "C:\\Users\\mahes\\anaconda3\\lib\\site-packages\\sklearn\\utils\\validation.py:70: FutureWarning: Pass categories=[array(['Aaron Leitko', 'Abby Jones', 'Adam Moerder', 'Alex Linhardt',\n",
      "       'Alexander Lloyd Linhardt', 'Alfred Soto', 'Alison Fields',\n",
      "       'Allison Hussey', 'Alphonse Pierre', 'Amanda Petrusich',\n",
      "       'Amy Granzin', 'Andrew Bryant', 'Andrew Gaerig', 'Andrew Ryce',\n",
      "       'Andy Battaglia', 'Andy Beta', \"Andy O'Connor\", 'Angus Finlayson',\n",
      "       'Anupa Mistry', 'Arielle Gordon', 'Ben Cardew', 'Ben Westhoff',\n",
      "       'Benjamin Scheim', 'Brad Haywood', 'Brad Nelson',\n",
      "       'Brandon Soderberg', 'Brandon Stosuy', 'Brendan Reid',\n",
      "       'Brent DiCrescenzo', 'Brent S. Sirota', 'Brian Howe',\n",
      "       'Brian James', 'Brian Josephs', 'Briana Younger', 'Calum Marsh',\n",
      "       'Cameron Cook', 'Cameron Macdonald', 'Camilo Arturo Leslie',\n",
      "       'Carrie Battan', 'Chal Ravens', 'Chris Dahlen', 'Christopher Dare',\n",
      "       'Christopher F. Schiel', 'Claire Lobenfeld', 'Colin Joyce',\n",
      "       'Corban Goble', 'Cory D. Byrom', 'Cosmo Lee', 'Craig Jenkins',\n",
      "       'D. Shawn Bosler', 'Dan Lett', 'Dani Blum ',\n",
      "       'Daniel Martin-McCormick', 'David Bevan', 'David Drake',\n",
      "       'David M. Pecoraro', 'David Moore', 'David Raposa', 'David Turner',\n",
      "       'Dean Van Nguyen', 'Derek Miller', 'Devon Maloney',\n",
      "       'Dominique Leone', 'Douglas Wolk', 'Elias Leight', 'Eric Carr',\n",
      "       'Eric Grandy', 'Eric Harvey', 'Eric Torres', 'Erin MacLeod',\n",
      "       'Erin Osmon', 'Evan McGarvey', 'Evan Minsker', 'Evan Rytlewski',\n",
      "       'Grayson Currin', 'Grayson Haver Currin', 'Hank Shteamer',\n",
      "       'Hari Ashurst', 'Harley Brown', 'Hartley Goldstein', 'Hazel Cills',\n",
      "       'Ian Cohen', 'Isaiah Violante', 'Jackson Howard', 'Jamieson Cox',\n",
      "       'Jamin Warren', 'Jascha Hoffman', 'Jason Crock', 'Jason Heller',\n",
      "       'Jason Nickey', 'Jay Balfour', 'Jayson Greene', 'Jazz Monroe',\n",
      "       'Jeff Weiss', 'Jenn Pelly', 'Jeremy D. Larson', 'Jeremy Gordon',\n",
      "       'Jes Skolnik', 'Jess Harvell', 'Jesse Dorris', 'Jesse Jarnow',\n",
      "       'Jesse Weiss', 'Jessica Hopper', 'Jessica Suarez', 'Jillian Mapes',\n",
      "       'Joe Colly', 'Joe Tangari', 'Joel Oliphint', 'John Dark',\n",
      "       'John Motley', 'Johnny Loftus', 'Jonah Bromwich',\n",
      "       'Jonathan Zwickel', 'Jordan Sargent', 'Joshua Klein',\n",
      "       'Joshua Love', 'Judy Berman', 'Julianne Escobedo Shepherd',\n",
      "       'Katherine St. Asaph', 'Kevin Adickes', 'Kevin Lozano',\n",
      "       'Kim Kelly', 'Larry Fitzmaurice', 'Laura Snapes', 'Liam Singer',\n",
      "       'Lindsay Zoladz', 'Liz Colville', 'Louis Pattison', 'Luke Buckman',\n",
      "       'Madison Bloom', 'Marc Hogan', 'Marc Masters', 'Marcus J. Moore',\n",
      "       'Margaret Farrell', 'Mark Martelli', 'Mark Pytlik',\n",
      "       'Mark Richardson', 'Martin Douglas', 'Matt LeMay',\n",
      "       'Matthew  Ismael Ruiz', 'Matthew Ismael Ruiz', 'Matthew Murphy',\n",
      "       'Matthew Perpetua', 'Matthew Ramirez', 'Matthew Solarski',\n",
      "       'Matthew Strauss', 'Maura Johnston', 'Meaghan Garvey',\n",
      "       'Mehan Jayasuriya', 'Mia Clarke', 'Mia Lily Clarke',\n",
      "       'Michael Idov', 'Michelle Kim', 'Mike McGonigal', 'Mike Orme',\n",
      "       'Mike Powell', 'Miles Bowe', 'Miles Raymer', 'Minna Zhou',\n",
      "       'Nate Patrin', 'Nathan Reese', 'Nathan Smith', 'Ned Raggett',\n",
      "       'Neil Robertson', 'Nick Mirov', 'Nick Neyland', 'Nick Sylvester',\n",
      "       'Nina Corcoran', 'Nitsuh Abebe', 'Noah Yoo', 'OTHER',\n",
      "       'Olivia Horn ', 'Pat Healy', 'Patric Fallon', 'Patrick Sisson',\n",
      "       'Patrick St. Michel', 'Paul A. Thompson', 'Paul Cooper',\n",
      "       'Paul Thompson', 'Peter Macia', 'Peyton Thomas',\n",
      "       'Philip Sherburne', 'Phillip Mlynar', 'Puja Patel',\n",
      "       'Quinn Moreland', 'Rachael Maddux', 'Rachel Khong',\n",
      "       'Rawiya Kameir', 'Raymond Cummings', 'Rebecca Bengal',\n",
      "       'Rebecca Haithcoat', 'Rebecca Raber', 'Reed Jackson',\n",
      "       'Renato Pagnani', 'Rich Juzwiak', 'Rob Mitchum', 'Robbie Mackey',\n",
      "       'Robert Ham', 'Rollie Pemberton', 'Roque Strew', 'Ruth Saxelby',\n",
      "       'Ryan Dombal', 'Ryan Kearney', 'Ryan Schreiber',\n",
      "       'Saby Reyes-Kulkarni', 'Sam Chennault', 'Sam Hockley-Smith',\n",
      "       'Sam Lefebvre', 'Sam Sodomsky', 'Sam Ubl', 'Sasha Geffen',\n",
      "       'Scott Hreha', 'Scott Plagenhoef', 'Sean Fennessey',\n",
      "       'Sean T. Collins', 'Seth Colter Walls', 'Sheldon Pearce',\n",
      "       'Sophie Kemp ', 'Spencer Owen', 'Stacey Anderson',\n",
      "       'Stephen Deusner', 'Stephen Kearse', 'Stephen M. Deusner',\n",
      "       'Stephen Thomas Erlewine', 'Stephen Troussé', 'Steven Arroyo',\n",
      "       'Steven Hyden', 'Stuart Berman', 'T. Cole Rachel', 'Tal Rosenberg',\n",
      "       'Thea Ballard', 'Tim Finney', 'Tom Breihan', 'Tom Ewing',\n",
      "       'Torii MacAdams', 'Vrinda Jagota', 'Will Bryant', 'William Bowers',\n",
      "       'William Morris', 'Winston Cook-Wilson', 'Zach Baron',\n",
      "       'Zach Kelly', 'Zoe Camp', 'kris ex'], dtype=object)] as keyword args. From version 1.0 (renaming of 0.25) passing these as positional arguments will result in an error\n",
      "  warnings.warn(f\"Pass {args_msg} as keyword args. From version \"\n",
      "C:\\Users\\mahes\\anaconda3\\lib\\site-packages\\sklearn\\utils\\validation.py:70: FutureWarning: Pass categories=[array(['!K7', '20 Buck Spin', '300 Entertainment', '4AD', '5RC', 'ATO',\n",
      "       'ATP', 'Absolutely Kosher', 'Ace Fu', 'Acuarela', 'Alien8',\n",
      "       'American', 'Anti-', 'Anticon', 'Arbutus', 'Arena Rock', 'Arista',\n",
      "       'Arts & Crafts', 'Asthmatic Kitty', 'Astralwerks', 'Asylum',\n",
      "       'Atavistic', 'Atlantic', 'BMG', 'Ba Da Bing!', 'Babygrande',\n",
      "       'Badman', 'Bar/None', 'Barsuk', 'Bedroom Community',\n",
      "       'Beggars Banquet', 'Bella Union', 'Big Dada', 'Birdman',\n",
      "       'Blackest Ever Black', 'Bloodshot', 'Blue Note',\n",
      "       'Border Community', 'Bpitch Control', 'Brainfeeder', 'Brassland',\n",
      "       'Burger', 'Caldo Verde', 'Capitol', 'Captured Tracks', 'Caroline',\n",
      "       'Carpark', 'Cash Money', 'Castle Face', 'Century Media',\n",
      "       'Chemikal Underground', 'City Slang', 'Columbia', 'Constellation',\n",
      "       'Cooking Vinyl', 'Crammed Discs', 'DFA', 'Dais Records',\n",
      "       'Dangerbird', 'Daptone', 'Darla', 'De Stijl', 'Dead Oceans',\n",
      "       'Deathwish', 'Decon', 'Def Jam', 'Definitive Jux', 'Dial',\n",
      "       'Dim Mak', 'Dischord', 'Domino', 'Don Giovanni',\n",
      "       'Double Double Whammy', 'Downtown', 'Drag City', 'E1', 'ECM',\n",
      "       'EMI', 'EMPIRE', 'Ecstatic Peace', 'Editions Mego', 'Elektra',\n",
      "       'Emperor Norton', 'Entertainment One', 'Epic', 'Epitaph',\n",
      "       'Erased Tapes', 'Fabric', 'Family Vineyard', 'Fat Beats',\n",
      "       'Fat Cat', 'Fat Possum', 'Father/Daughter', 'Fiction', 'Fire',\n",
      "       'Flameshovel', 'Flying Nun', 'Fonal', \"Fool's Gold\", 'Frenchkiss',\n",
      "       'Friendly Fire', 'Friends of Friends', 'GSL', 'Geffen', 'Ghostly',\n",
      "       'Ghostly International', 'Glassnote', 'Gnomonsong', 'Goner',\n",
      "       'Graveface', 'Guided By Voices, Inc.', 'Hardly Art', 'Harvest',\n",
      "       'Heavenly', 'Hidden Agenda', 'Hippos in Tanks', 'Holy Mountain',\n",
      "       'Hometapes', \"Honest Jon's\", 'Hotflush', 'Hush', 'Hydra Head',\n",
      "       'Hyperdub', 'IAMSOUND', 'Important', 'In the Red',\n",
      "       'Innovative Leisure', 'Interscope', 'Ipecac', 'Island',\n",
      "       'Jade Tree', 'Jagjaguwar', 'Jetset', 'Jive', 'Joyful Noise', 'K',\n",
      "       'Kanine', 'Kemado', 'Kill Rock Stars', 'Koch', 'Kompakt', 'Kora',\n",
      "       'Kranky', 'Labrador', 'Last Gang', 'Leaf', 'Leaving', 'Lefse',\n",
      "       'Legacy', 'Lex', 'Light in the Attic', 'Lo', 'Load', 'Locust',\n",
      "       'Loma Vista', 'Lookout!', 'Lost Highway', 'Luaka Bop', 'MCA',\n",
      "       'Mad Decent', 'Matador', 'Mego', 'Mello Music Group', 'Melodic',\n",
      "       'Memphis Industries', 'Mercury', 'Merge', 'Metal Blade',\n",
      "       'Mexican Summer', 'Milan', 'Mille Plateaux', 'Mint', 'Misra',\n",
      "       'Modern Love', 'Modular', 'Mom & Pop', 'Monitor', 'Monkeytown',\n",
      "       'Morr', 'Moshi Moshi', 'Motown', 'Mush', 'Mute', 'NNA Tapes',\n",
      "       'Narnack', 'Nature Sounds', 'Nettwerk', 'Neurot', 'New Amsterdam',\n",
      "       'New West', 'Night Slugs', 'Ninja Tune', 'No Quarter', 'Nonesuch',\n",
      "       'Northern Spy', 'Not Not Fun', 'Nuclear Blast', 'Numero Group',\n",
      "       'OTHER', 'Odd Future', 'One Little Indian', 'Orange Twin',\n",
      "       'Overcoat', 'P.W. Elverum & Sun', 'PIAS', 'Pan', 'Paper Bag',\n",
      "       'Paradise of Bachelors', 'Parasol', 'Parlophone', 'Partisan',\n",
      "       'Paw Tracks', 'Pinkflag', 'Planet Mu', 'Planet µ', 'Plug Research',\n",
      "       'Polydor', 'Polyvinyl', 'Profound Lore', 'Prosthetic',\n",
      "       'Quality Control', 'Quarterstick', 'R&S', 'RCA', 'Rap-A-Lot',\n",
      "       'Recordcollection', 'Relapse', 'Rephlex', 'Reprise', 'Republic',\n",
      "       'Rhino', 'Rhymesayers', 'Ribbon Music', 'Roadrunner', 'Roc Nation',\n",
      "       'Roc-A-Fella', 'Room40', 'Rough Trade', 'Rounder', 'Run for Cover',\n",
      "       'Rune Grammofon', 'Rvng Intl.', 'Ryko', 'Sacred Bones',\n",
      "       'Saddle Creek', 'Sanctuary', 'Sargent House', 'Season of Mist',\n",
      "       'Secret City', 'Secretly Canadian', 'Self-released',\n",
      "       'Shout! Factory', 'Siltbreeze', 'Sire', 'Slumberland',\n",
      "       'Smalltown Supersound', 'Social Registry', 'Soft Abuse',\n",
      "       'Software', 'Sonic Unyon', 'Sony', 'Southern', 'Southern Lord',\n",
      "       'StarTime', 'Staubgold', 'Stones Throw',\n",
      "       'Strange Attractors Audio House', 'Sub Pop', 'Subliminal Sounds',\n",
      "       'Suicide Squeeze', 'Swami', 'Team Love', 'Tee Pee', 'Teenbeat',\n",
      "       'Temporary Residence', 'The End', 'Third Man', 'Thirsty Ear',\n",
      "       'Three Lobed', 'Thrill Jockey', 'Tiger Style', 'Tigerbeat6',\n",
      "       'Tiny Engines', 'Tomlab', 'Tompkins Square', 'Too Pure',\n",
      "       'Top Dawg', 'Topshelf', 'Touch', 'Touch and Go', 'Transgressive',\n",
      "       'Tri Angle', 'Triple Crown', 'Trouble in Mind',\n",
      "       'Troubleman Unlimited', 'True Panther', 'Type', 'Tzadik',\n",
      "       'Underwater Peoples', 'V2', 'VHF', 'Vagrant', 'Vice', 'Virgin',\n",
      "       'Warm', 'Warner Bros.', 'Warp', 'Western Vinyl',\n",
      "       \"What's Your Rupture?\", 'Wichita', 'Woodsist', 'XL', 'Yep Roc',\n",
      "       'Young God', 'Young Money Entertainment', 'Young Turks', 'none',\n",
      "       'spinART', nan], dtype=object)] as keyword args. From version 1.0 (renaming of 0.25) passing these as positional arguments will result in an error\n",
      "  warnings.warn(f\"Pass {args_msg} as keyword args. From version \"\n",
      "C:\\Users\\mahes\\anaconda3\\lib\\site-packages\\sklearn\\utils\\validation.py:70: FutureWarning: Pass categories=[array(['Electronic', 'Experimental', 'Folk/Country', 'Global', 'Jazz',\n",
      "       'Metal', 'Pop/R&B', 'Rap', 'Rock', 'none', nan], dtype=object)] as keyword args. From version 1.0 (renaming of 0.25) passing these as positional arguments will result in an error\n",
      "  warnings.warn(f\"Pass {args_msg} as keyword args. From version \"\n"
     ]
    }
   ],
   "source": [
    "import pandas as pd\n",
    "import numpy as np\n",
    "import matplotlib.pyplot as plt\n",
    "import numpy as np\n",
    "from sklearn.preprocessing import OneHotEncoder\n",
    "\n",
    "# Convenience things for you, note that releaseyear is continuous but is not a Spotify API variable\n",
    "CONTINUOUS_FEATURES = ['releaseyear', 'danceability', 'energy', 'key', 'loudness',\n",
    "       'speechiness', 'acousticness', 'instrumentalness', 'liveness',\n",
    "       'valence', 'tempo']\n",
    "CATEGORICAL_FEATURES = ['artist', 'reviewauthor', 'recordlabel', 'genre']\n",
    "\n",
    "result_data = []\n",
    "\n",
    "for feature_set in feature_sets:\n",
    "    # Write your code for Part 1.1 here!\n",
    "    # Read in the data\n",
    "    training_data = pd.read_csv(\"part1_train.csv\")\n",
    "    test_data = pd.read_csv(\"part1_test.csv\")\n",
    "    train_data_i = training_data[feature_set]\n",
    "    test_data_i = test_data[feature_set]\n",
    "    for feature in feature_set:\n",
    "        if feature in CATEGORICAL_FEATURES:\n",
    "            encoder = OneHotEncoder()\n",
    "            encoded_train_datai, encoded_train_categoriesi = onehot_encode_var(train_data_i, feature, encoder)\n",
    "            encoder = OneHotEncoder(list(encoded_train_categoriesi))\n",
    "            encoded_test_datai, encoded_test_categoriesi = onehot_encode_var(test_data_i, feature, encoder)\n",
    "            #print(encoded_test_datai.shape)\n",
    "            #print(encoded_train_datai.shape)\n",
    "            #if(encoded_train_datai.shape[1] != encoded_test_datai.shape[1]):\n",
    "            #    print(feature)\n",
    "            #train_data_i[encoded_train_categoriesi[0]] = pd.DataFrame(encoded_train_datai)\n",
    "            #test_data_i[encoded_test_categoriesi[0]] = pd.DataFrame(encoded_test_datai)\n",
    "            #train_data_i.drop(feature, axis = 1, inplace = True)\n",
    "            #test_data_i.drop(feature, axis = 1, inplace = True)"
   ]
  },
  {
   "cell_type": "markdown",
   "id": "addressed-mercy",
   "metadata": {},
   "source": [
    "## Part 1.2 - Feature Engineering with the LASSO\n",
    "\n",
    "In Part 1.2, your task is to write code below that trains an L1-regularized linear regression model, with an expanded feature set.  Specifically:\n",
    "\n",
    "1. Begin with the final feature set listed in `feature_sets` (i.e. your feature set, to begin this section, is `feature_sets[-1]`.\n",
    "2. One-hot encode your categorical variables, setting `drop=if_binary` and `sparse=False` in the function arguments. \n",
    "3. Scale all of your continuous features using the `StandardScaler`.\n",
    "4. Train an L1-regularized linear regression model using these features on the dataset `part1_train.csv`. You should use the [LassoCV](https://scikit-learn.org/stable/modules/generated/sklearn.linear_model.LassoCV.html) class in `sklearn`, it will do the cross-validation necessary to select the appropriate value for the regularizer for you!  Use 10-fold cross-validation to perform model selection (set the `LassoCV` parmaeter `cv` to 10), and set the `random_state` to 1. Do not change any of the other parameters to `LassoCV` (i.e. leave them at their defaults).\n",
    "5. Identify the best `alpha` value (the regularizer term, according to `sklearn`. In class, we refer to this as $\\lambda$!) in terms of average mean squared error according to the cross-validation.\n",
    "6. Finally, train a [Lasso](https://scikit-learn.org/stable/modules/generated/sklearn.linear_model.Lasso.html) model on the entire training dataset (`part1_train.csv`). You will use this to report the root mean squared error on the test set (Question 1.2.4 below), and use it in Part 1.3 below as well.\n",
    "\n",
    "**Hint: The proceedure outlined above is very similar to ones we have discussed in class and shown how to do using `Pipeline`s.** \n"
   ]
  },
  {
   "cell_type": "code",
   "execution_count": 452,
   "id": "loose-width",
   "metadata": {},
   "outputs": [],
   "source": [
    "# Write your code for Part 1.2 here\n",
    "from sklearn.linear_model import LassoCV, Lasso\n",
    "from sklearn.preprocessing import StandardScaler\n",
    "\n",
    "training_data = pd.read_csv(\"part1_train.csv\")\n",
    "testing_data = pd.read_csv(\"part1_test.csv\")\n",
    "training_data = training_data[features+['score']].dropna()\n",
    "testing_data = testing_data[features+['score']].dropna()\n",
    "\n",
    "features = feature_sets[-1]\n",
    "#features = ['artist']\n",
    "\n",
    "\n",
    "train_data = training_data[features+['score']].dropna()\n",
    "test_data = testing_data[features+['score']].dropna()\n",
    "\n",
    "#maintain the list of continuous features that we really want\n",
    "l = []\n",
    "\n",
    "for feature in features:\n",
    "    if feature in CATEGORICAL_FEATURES:\n",
    "        train_encoder = OneHotEncoder(drop = 'if_binary', sparse = False)\n",
    "        encoded_train_data, encoded_train_categories = onehot_encode_var(train_data, feature, train_encoder)\n",
    "        \n",
    "        test_encoder = OneHotEncoder(categories = list(encoded_train_categories), sparse = False, drop = 'if_binary')\n",
    "        encoded_test_data, encoded_test_categories = onehot_encode_var(test_data, feature, test_encoder)\n",
    "        \n",
    "        train_data.loc[:, encoded_train_categories[0]] = encoded_train_data\n",
    "        #for encoded_category in encoded_train_categories[0]:\n",
    "        #    train_data.assign(encoded_train_category=encoded_train_data)\n",
    "        train_data.drop(feature, axis = 1, inplace=True);\n",
    "        \n",
    "        test_data.loc[:, encoded_test_categories[0]] = encoded_test_data\n",
    "        test_data.drop(feature, axis = 1, inplace=True);\n",
    "        \n",
    "    if feature in CONTINUOUS_FEATURES:\n",
    "        l.append(feature)\n",
    "continuous_rescaled_X = StandardScaler().fit_transform(train_data[l].values)\n",
    "train_data[l] = continuous_rescaled_X\n",
    "continuous_rescaled_X = StandardScaler().fit_transform(test_data[l].values)\n",
    "test_data[l] = continuous_rescaled_X"
   ]
  },
  {
   "cell_type": "code",
   "execution_count": 453,
   "id": "e2e1a4a9",
   "metadata": {},
   "outputs": [],
   "source": [
    "train_data = train_data.reset_index(drop=True)\n",
    "test_data = test_data.reset_index(drop=True)"
   ]
  },
  {
   "cell_type": "code",
   "execution_count": 454,
   "id": "71d3f293",
   "metadata": {},
   "outputs": [
    {
     "data": {
      "text/plain": [
       "LassoCV(cv=10, random_state=1)"
      ]
     },
     "execution_count": 454,
     "metadata": {},
     "output_type": "execute_result"
    }
   ],
   "source": [
    "X = train_data\n",
    "y = training_data['score']\n",
    "X_test = test_data\n",
    "y_test = testing_data['score']\n",
    "lasso_cv_model = LassoCV(cv = 10, random_state = 1)\n",
    "lasso_cv_model.fit(X, y)"
   ]
  },
  {
   "cell_type": "code",
   "execution_count": 455,
   "id": "43d9760a",
   "metadata": {},
   "outputs": [
    {
     "data": {
      "text/plain": [
       "0.9999989998281829"
      ]
     },
     "execution_count": 455,
     "metadata": {},
     "output_type": "execute_result"
    }
   ],
   "source": [
    "lasso_cv_model.score(X_test, y_test)"
   ]
  },
  {
   "cell_type": "code",
   "execution_count": 456,
   "id": "6bddc304",
   "metadata": {},
   "outputs": [
    {
     "data": {
      "text/plain": [
       "0.0015566700407125167"
      ]
     },
     "execution_count": 456,
     "metadata": {},
     "output_type": "execute_result"
    }
   ],
   "source": [
    "lasso_cv_model.alpha_"
   ]
  },
  {
   "cell_type": "code",
   "execution_count": 457,
   "id": "59a2440c",
   "metadata": {},
   "outputs": [
    {
     "name": "stdout",
     "output_type": "stream",
     "text": [
      "1.2. What was the average RMSE of the model with this alpha value on the k-fold cross validation on the training data? \n",
      "Ans:1.557311406495256e-06\n"
     ]
    }
   ],
   "source": [
    "print(\"1.2. What was the average RMSE of the model with this alpha value on the k-fold cross validation on the training data? \\nAns:\" + str(np.mean(lasso_cv_model.mse_path_[np.where(lasso_cv_model.alphas_ == lasso_cv_model.alpha_)[0][0]])))"
   ]
  },
  {
   "cell_type": "code",
   "execution_count": 458,
   "id": "b8dde2d0",
   "metadata": {},
   "outputs": [],
   "source": [
    "lasso_model = Lasso(alpha=lasso_cv_model.alpha_)"
   ]
  },
  {
   "cell_type": "code",
   "execution_count": 459,
   "id": "443f0b2b",
   "metadata": {},
   "outputs": [
    {
     "data": {
      "text/plain": [
       "Lasso(alpha=0.0015566700407125167)"
      ]
     },
     "execution_count": 459,
     "metadata": {},
     "output_type": "execute_result"
    }
   ],
   "source": [
    "lasso_model.fit(X, y)"
   ]
  },
  {
   "cell_type": "code",
   "execution_count": 460,
   "id": "f19b1fa9",
   "metadata": {},
   "outputs": [
    {
     "data": {
      "text/plain": [
       "0.9999989998281829"
      ]
     },
     "execution_count": 460,
     "metadata": {},
     "output_type": "execute_result"
    }
   ],
   "source": [
    "lasso_model.score(X_test, y_test)"
   ]
  },
  {
   "cell_type": "code",
   "execution_count": 461,
   "id": "eab8bd0c",
   "metadata": {},
   "outputs": [],
   "source": [
    "y_predict = lasso_model.predict(X_test)"
   ]
  },
  {
   "cell_type": "code",
   "execution_count": 462,
   "id": "1b0fdebc",
   "metadata": {},
   "outputs": [
    {
     "name": "stdout",
     "output_type": "stream",
     "text": [
      "1.2.4  RMSE with Lasso regression with the best alpha on the test data 0.0012519252204333154\n"
     ]
    }
   ],
   "source": [
    "print(\"1.2.4  RMSE with Lasso regression with the best alpha on the test data \" + str(np.sqrt(np.sum((y_predict - y_test)*(y_predict - y_test))/y_test.shape[0])))"
   ]
  },
  {
   "cell_type": "code",
   "execution_count": 463,
   "id": "7178cda1",
   "metadata": {},
   "outputs": [
    {
     "data": {
      "text/plain": [
       "<matplotlib.collections.PathCollection at 0x204386e48b0>"
      ]
     },
     "execution_count": 463,
     "metadata": {},
     "output_type": "execute_result"
    },
    {
     "data": {
      "image/png": "[encoded data removed]",
      "text/plain": [
       "<Figure size 432x288 with 1 Axes>"
      ]
     },
     "metadata": {
      "needs_background": "light"
     },
     "output_type": "display_data"
    }
   ],
   "source": [
    "import matplotlib.pyplot as plt\n",
    "plt.scatter(x=y_test, y=y_predict)"
   ]
  },
  {
   "cell_type": "markdown",
   "id": "distinct-functionality",
   "metadata": {},
   "source": [
    "Now, answer the following questions:\n",
    "- **1.2.1** - How many total features are introduced by Step 2 above? Provide both the number and an explanation of how you got to this number.\n",
    "- **1.2.2** - What was the best `alpha` value according to your cross-validation results?\n",
    "- **1.2.3** - What was the **average RMSE** of the model with this `alpha` value on the k-fold cross validation on the *training* data?\n",
    "- **1.2.4** - What was the **RMSE** of the model with this `alpha` value on the k-fold cross validation on the *test* data?\n"
   ]
  },
  {
   "cell_type": "markdown",
   "id": "floating-vinyl",
   "metadata": {},
   "source": [
    "# Part 1.3 - Interpreting Model Coefficents\n",
    "\n",
    "In this section we will interpret the coefficients from the final model you trained on all of the training data.\n",
    "\n",
    "- **1.3.1** - How many non-zero coefficients are in this final model?\n",
    "- **1.3.2** - What percentage of the coefficients are non-zero in this final model?\n",
    "- **1.3.3** - Who were the three most critical review authors, as estimated by the model? How do you know?\n",
    "- **1.3.4** - Who were the three artists that reviewers tended to like the most?  How do you know?\n",
    "- **1.3.5** - What genre did Pitchfork reviewers tend to like the most? Which genre did they like the least?\n"
   ]
  },
  {
   "cell_type": "code",
   "execution_count": 278,
   "id": "formal-stable",
   "metadata": {},
   "outputs": [
    {
     "name": "stdout",
     "output_type": "stream",
     "text": [
      "1.3.1 - How many non-zero coefficients are in this final model?\n",
      "Ans:497\n"
     ]
    }
   ],
   "source": [
    "print(\"1.3.1 - How many non-zero coefficients are in this final model?\\nAns:\" + str((lasso_model.coef_!=0).sum()))"
   ]
  },
  {
   "cell_type": "code",
   "execution_count": 284,
   "id": "b6c392e3",
   "metadata": {},
   "outputs": [
    {
     "name": "stdout",
     "output_type": "stream",
     "text": [
      "1.3.2 - What percentage of the coefficients are non-zero in this final model?\n",
      "Ans:72.55474452554745\n"
     ]
    }
   ],
   "source": [
    "print(\"1.3.2 - What percentage of the coefficients are non-zero in this final model?\\nAns:\" + str((lasso_model.coef_!=0).sum()*100/lasso_model.coef_.shape[0]))"
   ]
  },
  {
   "cell_type": "code",
   "execution_count": 355,
   "id": "fdd52483",
   "metadata": {},
   "outputs": [],
   "source": [
    "coefs = pd.DataFrame(\n",
    "    lasso_model.coef_,\n",
    "    columns=[\"Coefficients\"],\n",
    "    index=X.columns,\n",
    ")\n",
    "\n",
    "coefs.sort_values(by=\"Coefficients\", inplace=True)"
   ]
  },
  {
   "cell_type": "code",
   "execution_count": 356,
   "id": "5546dd3c",
   "metadata": {},
   "outputs": [],
   "source": [
    "tmp = []\n",
    "for x in coefs.index:\n",
    "    if x in training_data.reviewauthor.unique():\n",
    "        tmp.append(x)"
   ]
  },
  {
   "cell_type": "code",
   "execution_count": 357,
   "id": "b9f26400",
   "metadata": {},
   "outputs": [
    {
     "name": "stdout",
     "output_type": "stream",
     "text": [
      "1.3.3 - Who were the three most critical review authors, as estimated by the model? How do you know?\n",
      "Ans:['Jenn Pelly', 'kris ex', 'Judy Berman']\n"
     ]
    }
   ],
   "source": [
    "print(\"1.3.3 - Who were the three most critical review authors, as estimated by the model? How do you know?\\nAns:\" + str(tmp[-3:]))"
   ]
  },
  {
   "cell_type": "code",
   "execution_count": 358,
   "id": "e4341299",
   "metadata": {},
   "outputs": [],
   "source": [
    "tmp = []\n",
    "for x in coefs.index:\n",
    "    if x in training_data.artist.unique():\n",
    "        tmp.append(x)"
   ]
  },
  {
   "cell_type": "code",
   "execution_count": 359,
   "id": "3864416a",
   "metadata": {},
   "outputs": [
    {
     "name": "stdout",
     "output_type": "stream",
     "text": [
      "1.3.4 - Who were the three artists that reviewers tended to like the most? How do you know?\n",
      "Ans:['Nick Cave & the Bad Seeds', 'Miles Davis', 'R.E.M.']\n"
     ]
    }
   ],
   "source": [
    "print(\"1.3.4 - Who were the three artists that reviewers tended to like the most? How do you know?\\nAns:\" + str(tmp[-3:]))"
   ]
  },
  {
   "cell_type": "code",
   "execution_count": 360,
   "id": "12df4be1",
   "metadata": {},
   "outputs": [
    {
     "name": "stdout",
     "output_type": "stream",
     "text": [
      "1.3.5 - What genre did Pitchfork reviewers tend to like the most? Which genre did they like the least?\n",
      "Ans:['none', 'Jazz', 'Global']\n",
      "Electronic\n"
     ]
    }
   ],
   "source": [
    "tmp = []\n",
    "for x in coefs.index:\n",
    "    if x in training_data.genre.unique():\n",
    "        tmp.append(x)\n",
    "print(\"1.3.5 - What genre did Pitchfork reviewers tend to like the most? Which genre did they like the least?\\nAns:\" + str(tmp[-3:]) + \"\\n\" + str(tmp[0]))"
   ]
  },
  {
   "cell_type": "markdown",
   "id": "appropriate-lesbian",
   "metadata": {},
   "source": [
    "# Part 1.4 - \"Manual\" Cross-Validation + Holdout for Model Selection and Evaluation\n",
    "\n",
    "We will finally use cross validation for both algorithm and model selection, with a hold-out test set for a final evaluation. We will use **5-fold cross validation** to identify the best parameters and hyperparameters for a set of models. We will then take our final models and use a final hold-out test set (the same one as above) to estimate the generalization error of the models.\n",
    "\n",
    "Specifically, your task is first to write code that trains and evaluates the following models, one for each of the specified hyper parameters sets:\n",
    "\n",
    "- `Decision Tree regression` - All combinations of a `max_depth` of 5, 10, or 20, and a `criterion` of `\"squared error\"` or `\"absolute error\"`. Use the [DecisionTreeRegressor](https://scikit-learn.org/stable/modules/generated/sklearn.tree.DecisionTreeRegressor.html#sklearn.tree.DecisionTreeRegressor).\n",
    "- Ridge regression - Use the following choices of L2 penalty: $[10^{-5}, 10^{-4}, ..., 10^4, 10^5]$. In Python, you can create a list of these numbers using `np.logspace(-5, 5, 11)`. Use the [Ridge](https://scikit-learn.org/stable/modules/generated/sklearn.linear_model.Ridge.html#sklearn.linear_model.Ridge) class from sklearn to train a Ridge Regression model. The parameters you need to pass when constructing the Ridge model are `alpha`, which lets you specify what you want the L2 penalty to be, and `random_state=0` to avoid randomness.\n",
    "- kNN regression - Values of `n_neighbors` of 1, 5, 10, and 15. Use the [KNeighborsRegressor](https://scikit-learn.org/stable/modules/generated/sklearn.neighbors.KNeighborsRegressor.html) class.\n",
    "\n",
    "Additional notes:\n",
    "1. All models should use the feature sets described in Part 1.3 (the same ...one-hot encoded... categorical variables, and the scaled continuous variables)\n",
    "2. As opposed to using the `KFold` class from `sklearn` like we did in class, we have instead provided you with pre-existing data sets; you should therefore use the pre-split data in the provided CSV files ``1.2_fold0.csv ... 1.2_fold4.csv``\n",
    "\n",
    "**What to submit**:\n",
    "\n",
    "1. Write out the result to a file called `part_1.4_results.csv` and submit this along with your assignment. The file should have the following columns:\n",
    "- `model_name` - The name of the model, one of `DTR` (Decision Tree Regression), `Ridge`, or `KNN`.\n",
    "- `hyperparameter_setting` - a column describing the hyperparameters of the model. For models with multiple hyperparameters, combine them using an underscore (you can do this with the code `\"_\".join(hyperparameters)`).\n",
    "- `mean_training_rmse` - a column that gives the mean RMSE on the k-fold training data. You should take the average of the model’s errors on the different folds, using root mean squared error again as your evaluation metric.\n",
    "- `sd_training_rmse` - a column that gives the standard deviation RMSE on the k-fold training data.\n",
    "- `test_rmse` - a column that gives the RMSE of a linear regression model trained on this feature set on the test data\n",
    "\n",
    "\n",
    "2. Answer the following questions:\n",
    "- **1.4.1** Report, for each model, the hyper parameter setting that resulted in the best performance\n",
    "- **1.4.2** Which model performed the best overall on the cross-validation? \n",
    "- **1.4.3** Which model performed the best overall on the final test set? \n",
    "- **1.4.4** With respect to your answer for 1.4.3, why do you think that might be? (*Note: there is more than one correct way to answer this question*)\n",
    "- **1.4.5** Which model/hyperparameter setting had the highest standard deviation across the different folds of the cross validation?\n",
    "- **1.4.6** With respect to your answer for 1.4.6, why do you think that might be? (*Note: there is more than one correct way to answer this question*)"
   ]
  },
  {
   "cell_type": "code",
   "execution_count": 365,
   "id": "b2b62db4",
   "metadata": {},
   "outputs": [],
   "source": [
    "from sklearn.tree import DecisionTreeRegressor\n",
    "from sklearn.linear_model import Ridge\n",
    "from sklearn.neighbors import KNeighborsRegressor"
   ]
  },
  {
   "cell_type": "code",
   "execution_count": null,
   "id": "1d21215b",
   "metadata": {},
   "outputs": [],
   "source": [
    "DecisionTreeRegressor()"
   ]
  },
  {
   "cell_type": "code",
   "execution_count": 366,
   "id": "17e9dc9f",
   "metadata": {},
   "outputs": [],
   "source": [
    "hyper_params = {\"DTR\":[5, 10, 20], \"Ridge\":np.logspace(-5, 5, 11), \"knn\":[1, 5, 10, 15]}"
   ]
  },
  {
   "cell_type": "code",
   "execution_count": 448,
   "id": "19267620",
   "metadata": {},
   "outputs": [],
   "source": [
    "def preprocess(tr_data, tst_data, vl_data, features):\n",
    "    #maintain the list of continuous features that we really want\n",
    "    l = []\n",
    "\n",
    "    for feature in features:\n",
    "        if feature in CATEGORICAL_FEATURES:\n",
    "            train_encoder = OneHotEncoder(drop = 'if_binary', sparse = False, handle_unknown='error')\n",
    "            encoded_train_data, encoded_train_categories = onehot_encode_var(tr_data, feature, train_encoder)\n",
    "\n",
    "            test_encoder = OneHotEncoder(categories = list(encoded_train_categories), sparse = False, drop = 'if_binary')\n",
    "            encoded_test_data, encoded_test_categories = onehot_encode_var(tst_data, feature, test_encoder)\n",
    "            \n",
    "            val_encoder = OneHotEncoder(categories = list(encoded_train_categories), sparse = False, drop = 'if_binary')\n",
    "            encoded_vl_data, encoded_vl_categories = onehot_encode_var(vl_data, feature, val_encoder)\n",
    "\n",
    "            tr_data.loc[:, encoded_train_categories[0]] = encoded_train_data\n",
    "            tr_data.drop(feature, axis = 1, inplace=True);\n",
    "\n",
    "            tst_data.loc[:, encoded_test_categories[0]] = encoded_test_data\n",
    "            tst_data.drop(feature, axis = 1, inplace=True);\n",
    "            \n",
    "            vl_data.loc[:, encoded_vl_categories[0]] = encoded_vl_data\n",
    "            vl_data.drop(feature, axis = 1, inplace=True);\n",
    "\n",
    "        if feature in CONTINUOUS_FEATURES:\n",
    "            l.append(feature)\n",
    "    continuous_rescaled_X = StandardScaler().fit_transform(tr_data[l].values)\n",
    "    tr_data[l] = continuous_rescaled_X\n",
    "    continuous_rescaled_X = StandardScaler().fit_transform(tst_data[l].values)\n",
    "    tst_data[l] = continuous_rescaled_X\n",
    "    continuous_rescaled_X = StandardScaler().fit_transform(vl_data[l].values)\n",
    "    vl_data[l] = continuous_rescaled_X\n",
    "    return tr_data, tst_data, vl_data"
   ]
  },
  {
   "cell_type": "code",
   "execution_count": null,
   "id": "68c9c7ff",
   "metadata": {},
   "outputs": [
    {
     "name": "stdout",
     "output_type": "stream",
     "text": [
      "\n",
      "===Model:Ridge===\n",
      "\n",
      "======\n",
      " Config: \n",
      "=======\n",
      "cv:0 max_dpeth:20\n",
      "Train Squared Error:6.634277382414324e-15\n",
      "Val Squared Error:1.792954652541802e-15\n",
      "Test Squared Error:1.0398730179501204e-15\n",
      "======\n",
      " Config: \n",
      "=======\n",
      "cv:1 max_dpeth:20\n",
      "Train Squared Error:6.6006491516381034e-15\n",
      "Val Squared Error:1.7294451332832436e-15\n",
      "Test Squared Error:1.0405501774445288e-15\n",
      "======\n",
      " Config: \n",
      "=======\n",
      "cv:2 max_dpeth:20\n",
      "Train Squared Error:6.859104901533107e-15\n",
      "Val Squared Error:2.162006880013167e-15\n",
      "Test Squared Error:1.1156962028438848e-15\n",
      "======\n",
      " Config: \n",
      "=======\n",
      "cv:3 max_dpeth:20\n",
      "Train Squared Error:6.6947060421511915e-15\n",
      "Val Squared Error:1.8940740341063134e-15\n",
      "Test Squared Error:1.0643355649791112e-15\n",
      "======\n",
      " Config: \n",
      "=======\n",
      "cv:4 max_dpeth:20\n",
      "Train Squared Error:6.652623987231567e-15\n",
      "Val Squared Error:1.8168998171145863e-15\n",
      "Test Squared Error:1.0486281755449626e-15\n",
      "======\n",
      " Config: \n",
      "=======\n",
      "cv:0 max_dpeth:20\n",
      "Train Squared Error:6.634235505979258e-13\n",
      "Val Squared Error:1.792941326056852e-13\n",
      "Test Squared Error:1.0398649954957014e-13\n",
      "======\n",
      " Config: \n",
      "=======\n",
      "cv:1 max_dpeth:20\n",
      "Train Squared Error:6.600570382241717e-13\n",
      "Val Squared Error:1.7294239100779003e-13\n",
      "Test Squared Error:1.0405369596827608e-13\n",
      "======\n",
      " Config: \n",
      "=======\n",
      "cv:2 max_dpeth:20\n",
      "Train Squared Error:6.859070778692602e-13\n",
      "Val Squared Error:2.1619946436373303e-13\n",
      "Test Squared Error:1.115689455688375e-13\n",
      "======\n",
      " Config: \n",
      "=======\n",
      "cv:3 max_dpeth:20\n",
      "Train Squared Error:6.694695465139375e-13\n",
      "Val Squared Error:1.8940696949548112e-13\n",
      "Test Squared Error:1.064332113582065e-13\n",
      "======\n",
      " Config: \n",
      "=======\n",
      "cv:4 max_dpeth:20\n",
      "Train Squared Error:6.652564780794295e-13\n",
      "Val Squared Error:1.8168571259556362e-13\n",
      "Test Squared Error:1.0486180795047964e-13\n",
      "======\n",
      " Config: \n",
      "=======\n",
      "cv:0 max_dpeth:20\n",
      "Train Squared Error:6.634068973774378e-11\n",
      "Val Squared Error:1.792875715782189e-11\n",
      "Test Squared Error:1.0398235136505474e-11\n",
      "======\n",
      " Config: \n",
      "=======\n",
      "cv:1 max_dpeth:20\n",
      "Train Squared Error:6.600406196837131e-11\n",
      "Val Squared Error:1.729363027542258e-11\n",
      "Test Squared Error:1.0404966529691278e-11\n",
      "======\n",
      " Config: \n",
      "=======\n",
      "cv:2 max_dpeth:20\n",
      "Train Squared Error:6.858889209754985e-11\n",
      "Val Squared Error:2.1619142864074533e-11\n",
      "Test Squared Error:1.1156420076896668e-11\n",
      "======\n",
      " Config: \n",
      "=======\n",
      "cv:3 max_dpeth:20\n",
      "Train Squared Error:6.694528422120131e-11\n",
      "Val Squared Error:1.8940071008343626e-11\n",
      "Test Squared Error:1.0642901679367718e-11\n",
      "======\n",
      " Config: \n",
      "=======\n",
      "cv:4 max_dpeth:20\n",
      "Train Squared Error:6.652406246231246e-11\n",
      "Val Squared Error:1.816795899857832e-11\n",
      "Test Squared Error:1.0485783956814395e-11\n",
      "======\n",
      " Config: \n",
      "=======\n",
      "cv:0 max_dpeth:20\n",
      "Train Squared Error:6.632411960281358e-09\n",
      "Val Squared Error:1.7922223586462395e-09\n",
      "Test Squared Error:1.0394106000921593e-09\n",
      "======\n",
      " Config: \n",
      "=======\n",
      "cv:1 max_dpeth:20\n",
      "Train Squared Error:6.598743861967771e-09\n",
      "Val Squared Error:1.728750424147899e-09\n",
      "Test Squared Error:1.040091258101418e-09\n",
      "======\n",
      " Config: \n",
      "=======\n",
      "cv:2 max_dpeth:20\n",
      "Train Squared Error:6.8570911450208904e-09\n",
      "Val Squared Error:2.161115754301821e-09\n",
      "Test Squared Error:1.1151710523204647e-09\n",
      "======\n",
      " Config: \n",
      "=======\n",
      "cv:3 max_dpeth:20\n",
      "Train Squared Error:6.692872099361369e-09\n",
      "Val Squared Error:1.893385400094183e-09\n",
      "Test Squared Error:1.0638738254145605e-09\n",
      "======\n",
      " Config: \n",
      "=======\n",
      "cv:4 max_dpeth:20\n",
      "Train Squared Error:6.6508401846743564e-09\n",
      "Val Squared Error:1.8161903321208007e-09\n",
      "Test Squared Error:1.0481851005277627e-09\n",
      "======\n",
      " Config: \n",
      "=======\n",
      "cv:0 max_dpeth:20\n",
      "Train Squared Error:6.616793361746103e-07\n",
      "Val Squared Error:1.7859935310678751e-07\n",
      "Test Squared Error:1.0354950488965572e-07\n",
      "======\n",
      " Config: \n",
      "=======\n",
      "cv:1 max_dpeth:20\n",
      "Train Squared Error:6.58308153041661e-07\n",
      "Val Squared Error:1.7229498259293363e-07\n",
      "Test Squared Error:1.0362620919760651e-07\n",
      "======\n",
      " Config: \n",
      "=======\n",
      "cv:2 max_dpeth:20\n",
      "Train Squared Error:6.840147127904406e-07\n",
      "Val Squared Error:2.1535083236036996e-07\n",
      "Test Squared Error:1.1107115869509744e-07\n"
     ]
    }
   ],
   "source": [
    "fname = \"1.2_fold\"\n",
    "testing_data = pd.read_csv(\"part1_test.csv\")\n",
    "testing_data = testing_data[features+['score']].dropna()\n",
    "merge = pd.DataFrame();\n",
    "\n",
    "for model in hyper_params:\n",
    "    if model == \"Ridge\":\n",
    "        print(\"\\n===Model:Ridge===\\n\")\n",
    "        for l2 in hyper_params[model]:\n",
    "            reg = Ridge(random_state = 0, alpha=l2)\n",
    "            \n",
    "            for val in range(5):\n",
    "                for cv in range(5):\n",
    "                    if val == cv:\n",
    "                        val_data = pd.read_csv(fname+str(cv)+\".csv\")\n",
    "                        continue\n",
    "                    d = pd.read_csv(fname+str(cv)+\".csv\")\n",
    "                    if train_data.empty:\n",
    "                        train_data = d\n",
    "                    else:\n",
    "                        train_data = train_data.append(d)\n",
    "                \n",
    "                testing_data = pd.read_csv(\"part1_test.csv\")\n",
    "                \n",
    "                features = feature_sets[-1]\n",
    "                train_data = train_data[features+['score']].dropna()\n",
    "                val_data = val_data[features+['score']].dropna()\n",
    "                testing_data = testing_data[features+['score']].dropna()\n",
    "                \n",
    "                y_tr = train_data['score']\n",
    "                y_vl = val_data['score']\n",
    "                y_tst = testing_data['score']\n",
    "                \n",
    "                tr_data, tst_data, vl_data = preprocess(train_data, testing_data, val_data, features)\n",
    "                X_tr = tr_data\n",
    "                X_vl = vl_data\n",
    "                X_tst = tst_data\n",
    "                \n",
    "                print(\"======\\n Config: \\n=======\\ncv:\"+ str(val) +\" max_dpeth:\" + str(mx_depth))\n",
    "                reg.fit(X_tr, y_tr)\n",
    "                \n",
    "                tr_predict = reg.predict(X_tr)\n",
    "                print(\"Train Squared Error:\" + str(np.sum((tr_predict - y_tr)*(tr_predict - y_tr))))\n",
    "                      \n",
    "                vl_predict = reg.predict(X_vl)\n",
    "                print(\"Val Squared Error:\" + str(np.sum((vl_predict - y_vl)*(vl_predict - y_vl))))\n",
    "                      \n",
    "                tst_predict = reg.predict(X_tst)\n",
    "                print(\"Test Squared Error:\" + str(np.sum((tst_predict - y_tst)*(tst_predict - y_tst))))\n",
    "        if model == \"DTR\":\n",
    "            print(\"\\n===Model:DTR===\\n\")\n",
    "            for mx_depth in hyper_params[model]:\n",
    "                reg = DecisionTreeRegressor(max_depth = mx_depth)\n",
    "\n",
    "                for val in range(5):\n",
    "                    for cv in range(5):\n",
    "                        if val == cv:\n",
    "                            val_data = pd.read_csv(fname+str(cv)+\".csv\")\n",
    "                            continue\n",
    "                        d = pd.read_csv(fname+str(cv)+\".csv\")\n",
    "                        if train_data.empty:\n",
    "                            train_data = d\n",
    "                        else:\n",
    "                            train_data = train_data.append(d)\n",
    "\n",
    "                    testing_data = pd.read_csv(\"part1_test.csv\")\n",
    "\n",
    "                    features = feature_sets[-1]\n",
    "                    train_data = train_data[features+['score']].dropna()\n",
    "                    val_data = val_data[features+['score']].dropna()\n",
    "                    testing_data = testing_data[features+['score']].dropna()\n",
    "\n",
    "                    y_tr = train_data['score']\n",
    "                    y_vl = val_data['score']\n",
    "                    y_tst = testing_data['score']\n",
    "\n",
    "                    tr_data, tst_data, vl_data = preprocess(train_data, testing_data, val_data, features)\n",
    "                    X_tr = tr_data\n",
    "                    X_vl = vl_data\n",
    "                    X_tst = tst_data\n",
    "\n",
    "                    print(\"======\\n Config: \\n=======\\ncv:\"+ str(val) +\" max_dpeth:\" + str(mx_depth))\n",
    "                    reg.fit(X_tr, y_tr)\n",
    "\n",
    "                    tr_predict = reg.predict(X_tr)\n",
    "                    print(\"Train Squared Error:\" + str(np.sum((tr_predict - y_tr)*(tr_predict - y_tr))))\n",
    "\n",
    "                    vl_predict = reg.predict(X_vl)\n",
    "                    print(\"Val Squared Error:\" + str(np.sum((vl_predict - y_vl)*(vl_predict - y_vl))))\n",
    "\n",
    "                    tst_predict = reg.predict(X_tst)\n",
    "                    print(\"Test Squared Error:\" + str(np.sum((tst_predict - y_tst)*(tst_predict - y_tst))))\n",
    "        if model == \"KNN\":\n",
    "            print(\"\\n===Model:KNN===\\n\")\n",
    "            for k in hyper_params[model]:\n",
    "                reg = KNeighborsRegressor(n_neighbors=k)\n",
    "\n",
    "                for val in range(5):\n",
    "                    for cv in range(5):\n",
    "                        if val == cv:\n",
    "                            val_data = pd.read_csv(fname+str(cv)+\".csv\")\n",
    "                            continue\n",
    "                        d = pd.read_csv(fname+str(cv)+\".csv\")\n",
    "                        if train_data.empty:\n",
    "                            train_data = d\n",
    "                        else:\n",
    "                            train_data = train_data.append(d)\n",
    "\n",
    "                    testing_data = pd.read_csv(\"part1_test.csv\")\n",
    "\n",
    "                    features = feature_sets[-1]\n",
    "                    train_data = train_data[features+['score']].dropna()\n",
    "                    val_data = val_data[features+['score']].dropna()\n",
    "                    testing_data = testing_data[features+['score']].dropna()\n",
    "\n",
    "                    y_tr = train_data['score']\n",
    "                    y_vl = val_data['score']\n",
    "                    y_tst = testing_data['score']\n",
    "\n",
    "                    tr_data, tst_data, vl_data = preprocess(train_data, testing_data, val_data, features)\n",
    "                    X_tr = tr_data\n",
    "                    X_vl = vl_data\n",
    "                    X_tst = tst_data\n",
    "\n",
    "                    print(\"======\\n Config: \\n=======\\ncv:\"+ str(val) +\" max_dpeth:\" + str(mx_depth))\n",
    "                    reg.fit(X_tr, y_tr)\n",
    "\n",
    "                    tr_predict = reg.predict(X_tr)\n",
    "                    print(\"Train Squared Error:\" + str(np.sum((tr_predict - y_tr)*(tr_predict - y_tr))))\n",
    "\n",
    "                    vl_predict = reg.predict(X_vl)\n",
    "                    print(\"Val Squared Error:\" + str(np.sum((vl_predict - y_vl)*(vl_predict - y_vl))))\n",
    "\n",
    "                    tst_predict = reg.predict(X_tst)\n",
    "                    print(\"Test Squared Error:\" + str(np.sum((tst_predict - y_tst)*(tst_predict - y_tst))))"
   ]
  },
  {
   "cell_type": "code",
   "execution_count": 441,
   "id": "1acf4395",
   "metadata": {},
   "outputs": [
    {
     "data": {
      "text/plain": [
       "(1808, 16)"
      ]
     },
     "execution_count": 441,
     "metadata": {},
     "output_type": "execute_result"
    }
   ],
   "source": [
    "testing_data.shape"
   ]
  },
  {
   "cell_type": "code",
   "execution_count": 443,
   "id": "f51082d6",
   "metadata": {},
   "outputs": [
    {
     "data": {
      "text/plain": [
       "(1808,)"
      ]
     },
     "execution_count": 443,
     "metadata": {},
     "output_type": "execute_result"
    }
   ],
   "source": [
    "y_tst.shape"
   ]
  },
  {
   "cell_type": "code",
   "execution_count": 447,
   "id": "a719c7da",
   "metadata": {},
   "outputs": [
    {
     "data": {
      "text/plain": [
       "(1683, 685)"
      ]
     },
     "execution_count": 447,
     "metadata": {},
     "output_type": "execute_result"
    }
   ],
   "source": [
    "X_tst.shape"
   ]
  },
  {
   "cell_type": "code",
   "execution_count": 436,
   "id": "d60e0a2b",
   "metadata": {},
   "outputs": [
    {
     "data": {
      "text/plain": [
       "(3005,)"
      ]
     },
     "execution_count": 436,
     "metadata": {},
     "output_type": "execute_result"
    }
   ],
   "source": [
    "vl_predict.shape"
   ]
  },
  {
   "cell_type": "code",
   "execution_count": 437,
   "id": "3cff0338",
   "metadata": {},
   "outputs": [
    {
     "data": {
      "text/plain": [
       "(3254,)"
      ]
     },
     "execution_count": 437,
     "metadata": {},
     "output_type": "execute_result"
    }
   ],
   "source": [
    "y_vl.shape"
   ]
  },
  {
   "cell_type": "code",
   "execution_count": 439,
   "id": "0b4f923c",
   "metadata": {},
   "outputs": [
    {
     "data": {
      "text/plain": [
       "(3254, 16)"
      ]
     },
     "execution_count": 439,
     "metadata": {},
     "output_type": "execute_result"
    }
   ],
   "source": [
    "val_data.shape"
   ]
  },
  {
   "cell_type": "code",
   "execution_count": 432,
   "id": "778a23e9",
   "metadata": {},
   "outputs": [
    {
     "data": {
      "text/plain": [
       "array(['Pop/R&B', 'Rock', 'Experimental', 'Folk/Country', 'Electronic',\n",
       "       'Metal', 'Global', 'Rap', 'none', 'Jazz'], dtype=object)"
      ]
     },
     "execution_count": 432,
     "metadata": {},
     "output_type": "execute_result"
    }
   ],
   "source": [
    "train_data[features+['score']].dropna()['genre'].unique()"
   ]
  },
  {
   "cell_type": "code",
   "execution_count": 412,
   "id": "514a36da",
   "metadata": {},
   "outputs": [
    {
     "data": {
      "text/plain": [
       "(1683, 685)"
      ]
     },
     "execution_count": 412,
     "metadata": {},
     "output_type": "execute_result"
    }
   ],
   "source": [
    "tst_data.shape"
   ]
  },
  {
   "cell_type": "code",
   "execution_count": 413,
   "id": "45e024ae",
   "metadata": {},
   "outputs": [
    {
     "data": {
      "text/plain": [
       "(1808,)"
      ]
     },
     "execution_count": 413,
     "metadata": {},
     "output_type": "execute_result"
    }
   ],
   "source": [
    "testing_data['score'].shape"
   ]
  },
  {
   "cell_type": "code",
   "execution_count": 406,
   "id": "861e5a71",
   "metadata": {},
   "outputs": [
    {
     "data": {
      "text/plain": [
       "(84679, 685)"
      ]
     },
     "execution_count": 406,
     "metadata": {},
     "output_type": "execute_result"
    }
   ],
   "source": [
    "tr_data.shape"
   ]
  },
  {
   "cell_type": "code",
   "execution_count": 405,
   "id": "fad14fa3",
   "metadata": {},
   "outputs": [
    {
     "data": {
      "text/plain": [
       "0        5.7\n",
       "1        3.9\n",
       "2        7.3\n",
       "3        5.8\n",
       "4        7.6\n",
       "        ... \n",
       "3249    10.0\n",
       "3250     6.6\n",
       "3251     7.7\n",
       "3252     8.0\n",
       "3253     8.8\n",
       "Name: score, Length: 91112, dtype: float64"
      ]
     },
     "execution_count": 405,
     "metadata": {},
     "output_type": "execute_result"
    }
   ],
   "source": [
    "train_data['score'].dropna()"
   ]
  },
  {
   "cell_type": "code",
   "execution_count": 407,
   "id": "51ba4745",
   "metadata": {},
   "outputs": [
    {
     "data": {
      "text/plain": [
       "(3005, 685)"
      ]
     },
     "execution_count": 407,
     "metadata": {},
     "output_type": "execute_result"
    }
   ],
   "source": [
    "vl_data.shape"
   ]
  },
  {
   "cell_type": "code",
   "execution_count": 410,
   "id": "3d324554",
   "metadata": {},
   "outputs": [
    {
     "data": {
      "text/plain": [
       "(3005, 16)"
      ]
     },
     "execution_count": 410,
     "metadata": {},
     "output_type": "execute_result"
    }
   ],
   "source": [
    "val_data.dropna().shape"
   ]
  },
  {
   "cell_type": "markdown",
   "id": "neither-viking",
   "metadata": {},
   "source": [
    "# Part 2\n",
    "\n",
    "In class, we have shifted from regression to classification. Here, we're going to get a little practice in optimizing one of the classification models we saw in class - logistic regression. As a reminder...\n",
    "\n",
    "The loss function of logistic regression (also known as the logistic-loss or log-loss) is given by:\n",
    "\\begin{equation}\n",
    "  J({\\bf w}) = \\frac{1}{n}\\sum_{i=1}^n \\log{(1 + \\exp{(-y_i{\\bf w}^\\top{\\bf x}_i}))}\n",
    "  \\label{eqn:logloss}\n",
    "\\end{equation}\n",
    "\n",
    "The gradient for this loss function, as derived in class, is:\n",
    "\\begin{equation}\n",
    "  \\nabla J({\\bf w}) = -\\frac{1}{n}\\sum_{i=1}^n \\frac{y_i}{1 + \\exp{(y_i{\\bf w}^\\top{\\bf x}_i)}}{\\bf x}_i\n",
    "  \\label{eqn:loglossgradient}\n",
    "\\end{equation}\n",
    "\n",
    "\n",
    "The Hessian for the loss function is given by:\n",
    "\\begin{equation}\n",
    "  {\\bf H}({\\bf w}) = \\frac{1}{n} \\sum_{i=1}^n \\frac{\\exp{(y_i{\\bf w}^\\top{\\bf x}_i)}}{(1 + \\exp{(y_i{\\bf w}^\\top{\\bf x}_i)})^2}{\\bf x}_i{\\bf x}_i^\\top\n",
    "  \\label{eqn:loglosshessian}\n",
    "\\end{equation}\n",
    "\n",
    "## Part 2.1 - Logistic Regression with Gradient Descent\n",
    "\n",
    "In Part 2.1 we will implement logistic regression with gradient descent. You need to finish implementing 3 functions:\n",
    "\n",
    "1. `logistic_objective` - compute the logistic loss for the given data set (see equation above)\n",
    "2. `logistic_gradient` - compute the gradient vector of logistic loss for the given data set (see equation above)\n",
    "3. `run_gradient_descent` - run the gradient descent algorithm, given these two functions.\n",
    "\n",
    "We have provided you with some simulation data to evaluate your method with. Part 2.1 will, however, largely be graded by evaluating your code on a slightly different dataset to ensure robustness. \n",
    "\n",
    "In addition, please submit answers to the following questions on your written report:\n",
    "\n",
    "- **2.1.1** - How did you go about selecting a good step size, i.e. one that was not too big or too small? (*Note: There is more than one correct answer to this*)\n",
    "- **2.1.2** - What is the condition under which we assume that the gradient descent algorithm has converged in the code here?\n",
    "- **2.1.3** - What is a different convergence metric we could have used? (*Note: There is more than one correct answer to this*)"
   ]
  },
  {
   "cell_type": "code",
   "execution_count": 7,
   "id": "standard-roulette",
   "metadata": {},
   "outputs": [],
   "source": [
    "def logistic_objective(w, X, y):\n",
    "\n",
    "    # compute log-loss error (scalar) with respect\n",
    "    # to w (vector) for the given data X and y                               \n",
    "    # Inputs:\n",
    "    # w = d x 1\n",
    "    # X = N x d\n",
    "    # y = N x 1\n",
    "    # Output:\n",
    "    # error = scalar\n",
    "    \n",
    "    # IMPLEMENT THIS METHOD - REMOVE THE NEXT LINE\n",
    "    error = 0\n",
    "    return error\n",
    "\n",
    "def logistic_gradient(w, X, y):\n",
    "\n",
    "    # compute the gradient of the log-loss error (vector) with respect\n",
    "    # to w (vector) for the given data X and y  \n",
    "    #\n",
    "    # Inputs:\n",
    "    # w = d x 1\n",
    "    # X = N x d\n",
    "    # y = N x 1\n",
    "    # Output:\n",
    "    # error = d length gradient vector (not a d x 1 matrix)\n",
    "\n",
    "    # IMPLEMENT THIS METHOD - REMOVE THE NEXT LINE\n",
    "    gradient = 0\n",
    "    return gradient\n",
    "\n",
    "def run_gradient_descent(X,y):\n",
    "    old_w = np.array([-1]*X.shape[1])\n",
    "    # change this value! This is an unreasonable step size\n",
    "    step_size = 10000\n",
    "    new_w =old_w - 1\n",
    "    \n",
    "    while ((new_w-old_w)**2).sum() > .0000000001:\n",
    "        #IMPLEMENT THIS!\n",
    "        pass\n",
    "    return new_w\n",
    "\n"
   ]
  },
  {
   "cell_type": "code",
   "execution_count": 8,
   "id": "crude-foundation",
   "metadata": {},
   "outputs": [],
   "source": [
    "from scipy.stats import uniform, bernoulli\n",
    "import functools\n",
    "draw_binary = functools.partial(np.random.binomial,n=1)\n",
    "\n",
    "## Simulated data to test your method\n",
    "DATA_SIZE = 10000\n",
    "x1 = bernoulli(.5).rvs(DATA_SIZE)\n",
    "x2 = np.floor(uniform(18,60).rvs(DATA_SIZE))\n",
    "true_w = [-9, 3.5, 0.2]\n",
    "xb = true_w[0] + true_w[1]*x1 + true_w[2]*x2\n",
    "p = 1/(1 + np.exp(-xb))\n",
    "y = np.array([1 if draw_binary(p=v) else -1 for v in p])"
   ]
  },
  {
   "cell_type": "code",
   "execution_count": 9,
   "id": "noted-newton",
   "metadata": {},
   "outputs": [
    {
     "data": {
      "text/plain": [
       "array([[-8.58020492,  3.40771205,  0.19037032]])"
      ]
     },
     "execution_count": 9,
     "metadata": {},
     "output_type": "execute_result"
    }
   ],
   "source": [
    "from sklearn.linear_model import LogisticRegression\n",
    "\n",
    "# notice that logistic regression as implemented in sklearn does not get the exact results either!\n",
    "# so you shouldn't worry if you're a bit off\n",
    "X = np.hstack([np.ones((len(xb),1)), x1[:,np.newaxis], x2[:,np.newaxis]])\n",
    "model = LogisticRegression(solver='liblinear', random_state=0,fit_intercept=False)\n",
    "model.fit(X,y).coef_"
   ]
  },
  {
   "cell_type": "code",
   "execution_count": null,
   "id": "american-locking",
   "metadata": {},
   "outputs": [],
   "source": [
    "# this is how we will test your results\n",
    "gd_result = run_gradient_descent(X,y)\n",
    "# is your result relatively close to the truth?\n",
    "np.abs(true_w-gd_result).sum()"
   ]
  },
  {
   "cell_type": "markdown",
   "id": "diagnostic-toddler",
   "metadata": {},
   "source": [
    "## <span style=\"color:red\"> 574 Only</span> Part 2.2 - Optimization with Newton-Raphson <span style=\"color:red\"> 574 Only</span>\n",
    "\n",
    "In Part 2.2, you are going to, instead of using gradient descent, use the Newton-Raphson method to optimize the same logistic regression model. To do so, you will need to 1) implement the `logistic_hessian` function to compute the Hessian matrix of logistic loss for the given data set, and 2) use `scipy`'s `optimize` function to perform the optimization, rather than writing a function by hand to do so.  \n",
    "\n",
    "For Part 2.2, you will only need to implement these functions, we will test them using our own code. You can, however, perform the same kinds of tests that we proposed above to check your work! "
   ]
  },
  {
   "cell_type": "code",
   "execution_count": null,
   "id": "conscious-spokesman",
   "metadata": {},
   "outputs": [],
   "source": [
    "def logistic_hessian(w, X, y):\n",
    "\n",
    "    # compute the Hessian of the log-loss error (matrix) with respect\n",
    "    # to w (vector) for the given data X and y                               \n",
    "    #\n",
    "    # Inputs:\n",
    "    # w = d x 1\n",
    "    # X = N x d\n",
    "    # y = N x 1\n",
    "    # Output:\n",
    "    # Hessian = d x d matrix\n",
    "    \n",
    "    \n",
    "    if len(w.shape) == 1:\n",
    "        w = w[:,np.newaxis]\n",
    "\n",
    "    # IMPLEMENT THIS METHOD - REMOVE THE NEXT LINE\n",
    "    hessian = 0\n",
    "    return hessian"
   ]
  },
  {
   "cell_type": "code",
   "execution_count": null,
   "id": "bored-determination",
   "metadata": {},
   "outputs": [],
   "source": [
    "from scipy.optimize import minimize\n",
    "\n",
    "def run_newton_raphson(X,y):\n",
    "    args = (X,y[:,np.newaxis])\n",
    "    opts = {'maxiter' : 50}    # Preferred value.    \n",
    "    w_init = np.zeros(X.shape[1])\n",
    "    \n",
    "    # note: this is *almost* what you need, you just need to figure out what arguments are necessary here!\n",
    "    soln = minimize(PUT_THE_RIGHT_ARGUMENTS_IN_HERE!\n",
    "                    args=args,\n",
    "                    method='Newton-CG',\n",
    "                    options=opts)\n",
    "\n",
    "    w = np.transpose(np.array(soln.x))\n",
    "    w = w[:,np.newaxis]\n",
    "    return w\n"
   ]
  },
  {
   "cell_type": "code",
   "execution_count": null,
   "id": "liable-station",
   "metadata": {},
   "outputs": [],
   "source": [
    "run_newton_raphson(X,y)"
   ]
  }
 ],
 "metadata": {
  "kernelspec": {
   "display_name": "Python 3",
   "language": "python",
   "name": "python3"
  },
  "language_info": {
   "codemirror_mode": {
    "name": "ipython",
    "version": 3
   },
   "file_extension": ".py",
   "mimetype": "text/x-python",
   "name": "python",
   "nbconvert_exporter": "python",
   "pygments_lexer": "ipython3",
   "version": "3.8.8"
  }
 },
 "nbformat": 4,
 "nbformat_minor": 5
}
